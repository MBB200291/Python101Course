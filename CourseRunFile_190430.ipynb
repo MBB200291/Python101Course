{
 "cells": [
  {
   "cell_type": "code",
   "execution_count": null,
   "metadata": {},
   "outputs": [],
   "source": [
    "# 資料型態\n",
    "## int, float, bool, string\n",
    "# 資料容器\n",
    "## list, tuple, dictionary"
   ]
  },
  {
   "cell_type": "code",
   "execution_count": 1,
   "metadata": {},
   "outputs": [],
   "source": [
    "dict_a = {1:2}"
   ]
  },
  {
   "cell_type": "code",
   "execution_count": 7,
   "metadata": {},
   "outputs": [
    {
     "data": {
      "text/plain": [
       "2"
      ]
     },
     "execution_count": 7,
     "metadata": {},
     "output_type": "execute_result"
    }
   ],
   "source": [
    "dict_a.get(1, 4)"
   ]
  },
  {
   "cell_type": "markdown",
   "metadata": {},
   "source": [
    "def MTP(*args):\n",
    "    temp = 1\n",
    "    for i in args:\n",
    "        temp = temp * i\n",
    "    return temp\n",
    "\n",
    "def 減(*args):\n",
    "    temp = args[0]\n",
    "    for i in args[1:]:\n",
    "        temp -= i\n",
    "    return temp\n",
    "\n",
    "def ADD(*args):\n",
    "    temp = 0\n",
    "    for i in args:\n",
    "        temp += i\n",
    "    return temp\n",
    "\n",
    "def 除(*args):\n",
    "    temp = args[0]\n",
    "    for i in args[1:]:\n",
    "        temp = temp / i\n",
    "    return temp"
   ]
  },
  {
   "cell_type": "code",
   "execution_count": 9,
   "metadata": {},
   "outputs": [
    {
     "data": {
      "text/plain": [
       "15"
      ]
     },
     "execution_count": 9,
     "metadata": {},
     "output_type": "execute_result"
    }
   ],
   "source": [
    "ADD(1,2,3,4,5)"
   ]
  },
  {
   "cell_type": "code",
   "execution_count": 19,
   "metadata": {},
   "outputs": [
    {
     "data": {
      "text/plain": [
       "8"
      ]
     },
     "execution_count": 19,
     "metadata": {},
     "output_type": "execute_result"
    }
   ],
   "source": [
    "MTP(1,2,4)"
   ]
  },
  {
   "cell_type": "code",
   "execution_count": 17,
   "metadata": {},
   "outputs": [
    {
     "data": {
      "text/plain": [
       "-11"
      ]
     },
     "execution_count": 17,
     "metadata": {},
     "output_type": "execute_result"
    }
   ],
   "source": [
    "減(1,3,4,5)"
   ]
  },
  {
   "cell_type": "code",
   "execution_count": 38,
   "metadata": {},
   "outputs": [
    {
     "data": {
      "text/plain": [
       "0.3333333333333333"
      ]
     },
     "execution_count": 38,
     "metadata": {},
     "output_type": "execute_result"
    }
   ],
   "source": [
    "除(1,3)"
   ]
  },
  {
   "cell_type": "code",
   "execution_count": 12,
   "metadata": {},
   "outputs": [],
   "source": [
    "import 四則運算"
   ]
  },
  {
   "cell_type": "code",
   "execution_count": 13,
   "metadata": {},
   "outputs": [
    {
     "data": {
      "text/plain": [
       "7"
      ]
     },
     "execution_count": 13,
     "metadata": {},
     "output_type": "execute_result"
    }
   ],
   "source": [
    "四則運算.ADD(1,2,4)"
   ]
  },
  {
   "cell_type": "code",
   "execution_count": 43,
   "metadata": {},
   "outputs": [],
   "source": [
    "# practice 1: say hello\n",
    "def 嗨(名字):\n",
    "    return \"嗨!\"+名字"
   ]
  },
  {
   "cell_type": "code",
   "execution_count": 47,
   "metadata": {},
   "outputs": [],
   "source": [
    "# practice 2: return 100 special chracter\n",
    "def OneHundred(a, times=100):\n",
    "    return str(a)*times"
   ]
  },
  {
   "cell_type": "code",
   "execution_count": 48,
   "metadata": {},
   "outputs": [
    {
     "data": {
      "text/plain": [
       "'3333333333333333333333333333333333333333333333333333333333333333333333333333333333333333333333333333'"
      ]
     },
     "execution_count": 48,
     "metadata": {},
     "output_type": "execute_result"
    }
   ],
   "source": [
    "OneHundred(3)"
   ]
  },
  {
   "cell_type": "code",
   "execution_count": 41,
   "metadata": {},
   "outputs": [],
   "source": [
    "# practice 3: 輸出輸入的數字的四則運算\n",
    "def FourResult(*args):\n",
    "\n",
    "    def 乘(*args):\n",
    "        temp = 1\n",
    "        for i in args:\n",
    "            temp = temp * i\n",
    "        return temp\n",
    "\n",
    "    def 減(*args):\n",
    "        temp = args[0]\n",
    "        for i in args[1:]:\n",
    "            temp -= i\n",
    "        return temp\n",
    "\n",
    "    def 加(*args):\n",
    "        temp = 0\n",
    "        for i in args:\n",
    "            temp += i\n",
    "        return temp\n",
    "\n",
    "    def 除(*args):\n",
    "        temp = args[0]\n",
    "        for i in args[1:]:\n",
    "            temp = temp / i\n",
    "        return temp\n",
    "    \n",
    "    return (加(*args), 減(*args), 乘(*args), 除(*args))"
   ]
  },
  {
   "cell_type": "code",
   "execution_count": 42,
   "metadata": {},
   "outputs": [
    {
     "data": {
      "text/plain": [
       "(8, -4, 16, 0.25)"
      ]
     },
     "execution_count": 42,
     "metadata": {},
     "output_type": "execute_result"
    }
   ],
   "source": [
    "FourResult(2,2,2,2)"
   ]
  },
  {
   "cell_type": "code",
   "execution_count": 49,
   "metadata": {},
   "outputs": [],
   "source": [
    "a = [1,2,3]\n",
    "b = []"
   ]
  },
  {
   "cell_type": "code",
   "execution_count": 54,
   "metadata": {},
   "outputs": [],
   "source": [
    "b = [11,22,33,*a]"
   ]
  },
  {
   "cell_type": "code",
   "execution_count": 55,
   "metadata": {},
   "outputs": [
    {
     "data": {
      "text/plain": [
       "[11, 22, 33, 1, 2, 3]"
      ]
     },
     "execution_count": 55,
     "metadata": {},
     "output_type": "execute_result"
    }
   ],
   "source": [
    "b"
   ]
  },
  {
   "cell_type": "code",
   "execution_count": 57,
   "metadata": {},
   "outputs": [
    {
     "data": {
      "text/plain": [
       "inf"
      ]
     },
     "execution_count": 57,
     "metadata": {},
     "output_type": "execute_result"
    }
   ],
   "source": [
    "float(\"inf\")"
   ]
  },
  {
   "cell_type": "code",
   "execution_count": 58,
   "metadata": {},
   "outputs": [
    {
     "data": {
      "text/plain": [
       "-inf"
      ]
     },
     "execution_count": 58,
     "metadata": {},
     "output_type": "execute_result"
    }
   ],
   "source": [
    "float(\"-inf\")"
   ]
  },
  {
   "cell_type": "code",
   "execution_count": 123,
   "metadata": {},
   "outputs": [],
   "source": [
    "# practice 4:\n",
    "def DoSomething(OP, *args):\n",
    "    \n",
    "    def 乘(args):\n",
    "        temp = 1\n",
    "        for i in args:\n",
    "            temp *= i\n",
    "        return temp\n",
    "\n",
    "    def 減(args):\n",
    "        temp = args[0]\n",
    "        for i in args[1:]:\n",
    "            temp -= i\n",
    "        return temp\n",
    "\n",
    "    def 加(args):\n",
    "        temp = 0\n",
    "        for i in args:\n",
    "            temp += i\n",
    "        return temp\n",
    "\n",
    "    def 除(args):\n",
    "        temp = args[0]\n",
    "        for i in args[1:]:\n",
    "            temp /= i\n",
    "        return temp\n",
    "\n",
    "    \n",
    "    if args:    #\n",
    "     \n",
    "        if OP == '+':\n",
    "            return 加(args)\n",
    "        elif OP == '-':\n",
    "            return 減(args)\n",
    "        elif OP == '*':\n",
    "            return 乘(args)\n",
    "        elif OP == '/':\n",
    "            return 除(args)\n",
    "    else:\n",
    "        return\n",
    "        "
   ]
  },
  {
   "cell_type": "code",
   "execution_count": 125,
   "metadata": {},
   "outputs": [
    {
     "data": {
      "text/plain": [
       "0.0990990990990991"
      ]
     },
     "execution_count": 125,
     "metadata": {},
     "output_type": "execute_result"
    }
   ],
   "source": [
    "DoSomething(\"/\",44,444)"
   ]
  },
  {
   "cell_type": "code",
   "execution_count": 104,
   "metadata": {},
   "outputs": [],
   "source": [
    "# 接受字串來做四則運算\n",
    "def Calculator(txt):\n",
    "    list_op = []\n",
    "    list_int = []\n",
    "    temp = ''\n",
    "    for i in txt:\n",
    "        if not i.isdigit():\n",
    "            list_op.append(i)\n",
    "            list_int.append(int(temp))\n",
    "            temp = ''\n",
    "        else:\n",
    "            temp += i\n",
    "    list_int.append(int(temp))   \n",
    "    print(list_op, list_int)        \n",
    "    f = list_int[0]\n",
    "    print(f)        \n",
    "    for i,o in zip(list_int[1:], list_op):\n",
    "        print(o, f, i)\n",
    "        f = DoSomething(o, f, i)\n",
    "    return f"
   ]
  },
  {
   "cell_type": "code",
   "execution_count": 129,
   "metadata": {},
   "outputs": [
    {
     "name": "stdout",
     "output_type": "stream",
     "text": [
      "['/', '*', '+'] [1, 3, 3, 3333]\n",
      "1\n",
      "/ 1 3\n",
      "* 0.3333333333333333 3\n",
      "+ 1.0 3333\n"
     ]
    },
    {
     "data": {
      "text/plain": [
       "3334.0"
      ]
     },
     "execution_count": 129,
     "metadata": {},
     "output_type": "execute_result"
    }
   ],
   "source": [
    "Calculator('1/3*3+3333')\n"
   ]
  },
  {
   "cell_type": "code",
   "execution_count": null,
   "metadata": {},
   "outputs": [],
   "source": [
    "# 接受字串來做四則運算 ==> 先乘除後加減\n",
    "def CalculatorS(txt):\n",
    "    list_op = []\n",
    "    list_int = []\n",
    "    temp = ''\n",
    "    for i in txt:\n",
    "        if not i.isdigit():\n",
    "            list_op.append(i)\n",
    "            list_int.append(int(temp))\n",
    "            temp = ''\n",
    "        else:\n",
    "            temp += i\n",
    "    list_int.append(int(temp))   \n",
    "    print(list_op, list_int)        \n",
    "    #\n",
    "    \n",
    "    for i,a enumerate(list_op):\n",
    "        if a in '*/':\n",
    "            list_new_int.append(DoSomething(a, list_new_int[i], list_int[i+1]))\n",
    "        else:\n",
    "            list_new_int.append(list_int[i])\n",
    "            list_new_op.append(a)\n",
    "    \n",
    "    #還沒好=========\n",
    "    \n",
    "    \n",
    "    list_new_int = []\n",
    "    list_new_op = []\n",
    "    for i,a enumerate(list_op):\n",
    "        if a in '*/':\n",
    "            list_new_int.append(DoSomething(a, list_new_int[i], list_int[i+1]))\n",
    "        else:\n",
    "            list_new_int.append(list_int[i])\n",
    "            list_new_op.append(a)\n",
    "    \n",
    "    \n",
    "    f = list_int[0]\n",
    "    print(f)        \n",
    "    for i,o in zip(list_int[1:], list_op):\n",
    "        print(o, f, i)\n",
    "        f = DoSomething(o, f, i)\n",
    "    return f"
   ]
  },
  {
   "cell_type": "code",
   "execution_count": 107,
   "metadata": {},
   "outputs": [],
   "source": [
    "a = [11,22,33]"
   ]
  },
  {
   "cell_type": "code",
   "execution_count": 112,
   "metadata": {},
   "outputs": [],
   "source": [
    "del a[1] "
   ]
  },
  {
   "cell_type": "code",
   "execution_count": 113,
   "metadata": {},
   "outputs": [
    {
     "data": {
      "text/plain": [
       "[11, 33]"
      ]
     },
     "execution_count": 113,
     "metadata": {},
     "output_type": "execute_result"
    }
   ],
   "source": [
    "a"
   ]
  },
  {
   "cell_type": "code",
   "execution_count": 127,
   "metadata": {},
   "outputs": [
    {
     "name": "stdout",
     "output_type": "stream",
     "text": [
      "33\n",
      "CPU times: user 216 µs, sys: 101 µs, total: 317 µs\n",
      "Wall time: 240 µs\n"
     ]
    }
   ],
   "source": [
    "%%time\n",
    "print(33)"
   ]
  },
  {
   "cell_type": "code",
   "execution_count": null,
   "metadata": {},
   "outputs": [],
   "source": []
  }
 ],
 "metadata": {
  "kernelspec": {
   "display_name": "Python 3",
   "language": "python",
   "name": "python3"
  },
  "language_info": {
   "codemirror_mode": {
    "name": "ipython",
    "version": 3
   },
   "file_extension": ".py",
   "mimetype": "text/x-python",
   "name": "python",
   "nbconvert_exporter": "python",
   "pygments_lexer": "ipython3",
   "version": "3.7.2"
  }
 },
 "nbformat": 4,
 "nbformat_minor": 2
}
