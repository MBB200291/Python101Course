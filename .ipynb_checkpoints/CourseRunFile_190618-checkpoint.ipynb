{
 "cells": [
  {
   "cell_type": "code",
   "execution_count": 2,
   "metadata": {},
   "outputs": [],
   "source": [
    "import re"
   ]
  },
  {
   "cell_type": "code",
   "execution_count": 25,
   "metadata": {},
   "outputs": [],
   "source": [
    "with open('reg_course.txt', 'r', encoding='utf8') as inp:\n",
    "    cont = inp.read().splitlines()"
   ]
  },
  {
   "cell_type": "code",
   "execution_count": 26,
   "metadata": {},
   "outputs": [
    {
     "data": {
      "text/plain": [
       "['Proton_A_20190321_IonXpress_012_F00120_CNV.txt',\n",
       " 'Proton_B_20190321_IonXpress_012_F00235454_CNV.txt',\n",
       " 'S5PR_A_20190321_IonXpress_0212_F00120_VCF.txt',\n",
       " 'S5PR_B_30330321_IonXpress_0142_D00121_VCF.txt']"
      ]
     },
     "execution_count": 26,
     "metadata": {},
     "output_type": "execute_result"
    }
   ],
   "source": [
    "cont"
   ]
  },
  {
   "cell_type": "code",
   "execution_count": null,
   "metadata": {},
   "outputs": [],
   "source": [
    "# aim: get proton_A, "
   ]
  },
  {
   "cell_type": "code",
   "execution_count": 57,
   "metadata": {},
   "outputs": [],
   "source": [
    "li_result = []\n",
    "li_result_item = []\n",
    "pat = re.compile(r'^([A-Za-z0-9]+?_[AB])_(\\d+?)_IonXpress_(\\d+?)_[A-Z]\\d+?_([A-Z]+?)\\.txt$', flags=re.IGNORECASE)\n",
    "for i in cont:\n",
    "    #machine = re.match('(\\w+_[A-B])', i)\n",
    "    matches = re.search(pat, i)\n",
    "    if matches:\n",
    "        li_result.append(matches.group(0))\n",
    "        li_result_item.append(matches.group(1,2,3,4))"
   ]
  },
  {
   "cell_type": "code",
   "execution_count": 56,
   "metadata": {},
   "outputs": [
    {
     "data": {
      "text/plain": [
       "['Proton_A_20190321_IonXpress_012_F00120_CNV.txt',\n",
       " 'Proton_B_20190321_IonXpress_012_F00235454_CNV.txt',\n",
       " 'S5PR_A_20190321_IonXpress_0212_F00120_VCF.txt',\n",
       " 'S5PR_B_30330321_IonXpress_0142_D00121_VCF.txt']"
      ]
     },
     "execution_count": 56,
     "metadata": {},
     "output_type": "execute_result"
    }
   ],
   "source": [
    "li_result"
   ]
  },
  {
   "cell_type": "code",
   "execution_count": 51,
   "metadata": {},
   "outputs": [
    {
     "data": {
      "text/plain": [
       "[('Proton_A', '20190321', '012', 'CNV'),\n",
       " ('Proton_B', '20190321', '012', 'CNV'),\n",
       " ('S5PR_A', '20190321', '0212', 'VCF'),\n",
       " ('S5PR_B', '30330321', '0142', 'VCF')]"
      ]
     },
     "execution_count": 51,
     "metadata": {},
     "output_type": "execute_result"
    }
   ],
   "source": [
    "li_result_item"
   ]
  },
  {
   "cell_type": "code",
   "execution_count": null,
   "metadata": {},
   "outputs": [],
   "source": [
    "# search ==> 回傳第一個match\n",
    "re.findall('(\\w+?_[AB])', '231233_A_3444_B').group(0)"
   ]
  },
  {
   "cell_type": "code",
   "execution_count": 54,
   "metadata": {},
   "outputs": [
    {
     "data": {
      "text/plain": [
       "'231233_A'"
      ]
     },
     "execution_count": 54,
     "metadata": {},
     "output_type": "execute_result"
    }
   ],
   "source": [
    "# match ==> 回傳第一個match\n",
    "re.match('(\\w+?_[AB])', '231233_A_3444_B').group(1)"
   ]
  },
  {
   "cell_type": "code",
   "execution_count": 48,
   "metadata": {},
   "outputs": [
    {
     "data": {
      "text/plain": [
       "['231233_A', '_3444_B']"
      ]
     },
     "execution_count": 48,
     "metadata": {},
     "output_type": "execute_result"
    }
   ],
   "source": [
    "# search ==> 回傳所有結果成為list\n",
    "re.findall('(\\w+?_[AB])', '231233_A_3444_B')"
   ]
  },
  {
   "cell_type": "code",
   "execution_count": null,
   "metadata": {},
   "outputs": [],
   "source": []
  },
  {
   "cell_type": "code",
   "execution_count": null,
   "metadata": {},
   "outputs": [],
   "source": []
  },
  {
   "cell_type": "code",
   "execution_count": null,
   "metadata": {},
   "outputs": [],
   "source": []
  },
  {
   "cell_type": "code",
   "execution_count": 41,
   "metadata": {},
   "outputs": [],
   "source": [
    "import sys"
   ]
  },
  {
   "cell_type": "code",
   "execution_count": 42,
   "metadata": {},
   "outputs": [],
   "source": [
    "# Read\n",
    "list_path_txt = []\n",
    "list_path_ann = []\n",
    "list_path_sen = []"
   ]
  },
  {
   "cell_type": "code",
   "execution_count": 43,
   "metadata": {},
   "outputs": [],
   "source": [
    "for i,p in enumerate(sys.argv[2:]):\n",
    "    if i % 3 == 0:\n",
    "        list_txt.append(p)\n",
    "    elif i % 3 == 1:\n",
    "        list_ann.append(p)\n",
    "    elif i % 3 == 2:\n",
    "        list_sen.append(p)"
   ]
  },
  {
   "cell_type": "code",
   "execution_count": 49,
   "metadata": {},
   "outputs": [],
   "source": [
    "def ReadFile(path):\n",
    "    with open(path, 'r', encoding='utf8') as inp:\n",
    "        al = inp.read()\n",
    "    return al"
   ]
  },
  {
   "cell_type": "code",
   "execution_count": null,
   "metadata": {},
   "outputs": [],
   "source": [
    "def ReadFile_ann(path):\n",
    "    with open(path, 'r', encoding='utf8') as inp:\n",
    "        al = inp.read().splitlines()\n",
    "    al = [x.split('\\t') for x in al]\n",
    "    al = [[x[0], x[1].split(' '), *x[2:]] for x in al]\n",
    "    return al"
   ]
  },
  {
   "cell_type": "code",
   "execution_count": null,
   "metadata": {},
   "outputs": [],
   "source": [
    "def ReadFile_sen(path):\n",
    "    with open(path, 'r', encoding='utf8') as inp:\n",
    "        al = inp.read().splitlines()\n",
    "    return [x.split('\\t') for x in al]"
   ]
  },
  {
   "cell_type": "code",
   "execution_count": null,
   "metadata": {},
   "outputs": [],
   "source": [
    "list_txt = [ReadFile(x) for x in list_path_txt]\n",
    "list_ann = [ReadFile_ann(x) for x in list_path_txt]\n",
    "list_sen = [ReadFile_sen(x) for x in list_path_txt]"
   ]
  },
  {
   "cell_type": "code",
   "execution_count": null,
   "metadata": {},
   "outputs": [],
   "source": [
    "li_chr_offsets = []\n",
    "offset = 0\n",
    "for i in range(len(list_txt)-1):\n",
    "    li_chr_offsets.append(offset)\n",
    "    offset += len(list_txt[i])"
   ]
  },
  {
   "cell_type": "code",
   "execution_count": null,
   "metadata": {},
   "outputs": [],
   "source": [
    "li_line_offsets = []\n",
    "offset = 0\n",
    "for i in range(len(list_txt)-1):\n",
    "    li_chr_offsets.append(offset)\n",
    "    offset += len(list_txt[i].splitlines())"
   ]
  },
  {
   "cell_type": "code",
   "execution_count": 6,
   "metadata": {},
   "outputs": [
    {
     "data": {
      "text/plain": [
       "2"
      ]
     },
     "execution_count": 6,
     "metadata": {},
     "output_type": "execute_result"
    }
   ],
   "source": [
    "oup_txt = open(path_txt, 'w', encoding='utf8')\n",
    "oup_ann = open(path_ann, 'w', encoding='utf8')\n",
    "oup_sen = open(path_sen, 'w', encoding='utf8')\n",
    "offset = 0\n",
    "for i in range(1, len(list_ann)):\n",
    "    oup_txt"
   ]
  },
  {
   "cell_type": "code",
   "execution_count": null,
   "metadata": {},
   "outputs": [],
   "source": []
  }
 ],
 "metadata": {
  "kernelspec": {
   "display_name": "Python 3",
   "language": "python",
   "name": "python3"
  },
  "language_info": {
   "codemirror_mode": {
    "name": "ipython",
    "version": 3
   },
   "file_extension": ".py",
   "mimetype": "text/x-python",
   "name": "python",
   "nbconvert_exporter": "python",
   "pygments_lexer": "ipython3",
   "version": "3.7.2"
  }
 },
 "nbformat": 4,
 "nbformat_minor": 2
}
