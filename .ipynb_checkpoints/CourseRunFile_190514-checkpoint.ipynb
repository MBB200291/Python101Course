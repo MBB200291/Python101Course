{
 "cells": [
  {
   "cell_type": "code",
   "execution_count": 1,
   "metadata": {},
   "outputs": [],
   "source": [
    "def len_of_string(*args):\n",
    "    if args:\n",
    "        for i in args:\n",
    "            print(i, len(i))"
   ]
  },
  {
   "cell_type": "code",
   "execution_count": 2,
   "metadata": {},
   "outputs": [
    {
     "name": "stdout",
     "output_type": "stream",
     "text": [
      "333434343 9\n",
      "3343frgr 8\n"
     ]
    }
   ],
   "source": [
    "len_of_string(\"333434343\", '3343frgr')"
   ]
  },
  {
   "cell_type": "code",
   "execution_count": 3,
   "metadata": {},
   "outputs": [],
   "source": [
    "# list dir"
   ]
  },
  {
   "cell_type": "code",
   "execution_count": 4,
   "metadata": {},
   "outputs": [],
   "source": [
    "import os"
   ]
  },
  {
   "cell_type": "code",
   "execution_count": 7,
   "metadata": {},
   "outputs": [
    {
     "ename": "AttributeError",
     "evalue": "module 'os' has no attribute 'setcwd'",
     "output_type": "error",
     "traceback": [
      "\u001b[0;31m---------------------------------------------------------------------------\u001b[0m",
      "\u001b[0;31mAttributeError\u001b[0m                            Traceback (most recent call last)",
      "\u001b[0;32m<ipython-input-7-284489c44a8f>\u001b[0m in \u001b[0;36m<module>\u001b[0;34m\u001b[0m\n\u001b[1;32m      1\u001b[0m \u001b[0mos\u001b[0m\u001b[0;34m.\u001b[0m\u001b[0mlistdir\u001b[0m\u001b[0;34m(\u001b[0m\u001b[0;34m)\u001b[0m\u001b[0;34m\u001b[0m\u001b[0;34m\u001b[0m\u001b[0m\n\u001b[0;32m----> 2\u001b[0;31m \u001b[0mos\u001b[0m\u001b[0;34m.\u001b[0m\u001b[0msetcwd\u001b[0m\u001b[0;34m(\u001b[0m\u001b[0;34m)\u001b[0m\u001b[0;34m\u001b[0m\u001b[0;34m\u001b[0m\u001b[0m\n\u001b[0m",
      "\u001b[0;31mAttributeError\u001b[0m: module 'os' has no attribute 'setcwd'"
     ]
    }
   ],
   "source": [
    "os.listdir()\n",
    "#os.chdir('')"
   ]
  },
  {
   "cell_type": "code",
   "execution_count": 9,
   "metadata": {},
   "outputs": [
    {
     "name": "stdout",
     "output_type": "stream",
     "text": [
      "四則運算.py\n"
     ]
    }
   ],
   "source": [
    "for f in os.listdir():\n",
    "    if f == '四則運算.py':\n",
    "        openfile = open(f+'_test.txt', 'x') #檢查檔案是否存在\n",
    "        openfile.write(\"試試看\")\n",
    "        openfile.close()\n",
    "        print(f)"
   ]
  },
  {
   "cell_type": "code",
   "execution_count": 18,
   "metadata": {},
   "outputs": [
    {
     "data": {
      "text/plain": [
       "'__pycache__'"
      ]
     },
     "execution_count": 18,
     "metadata": {},
     "output_type": "execute_result"
    }
   ],
   "source": [
    "os.listdir()[8]"
   ]
  },
  {
   "cell_type": "code",
   "execution_count": 15,
   "metadata": {},
   "outputs": [],
   "source": [
    "filename  = os.listdir()[10]\n",
    "openfile = open(filename, 'r')\n",
    "list_content = openfile.read().splitlines()\n",
    "openfile.close()"
   ]
  },
  {
   "cell_type": "markdown",
   "metadata": {},
   "source": [
    "# practice "
   ]
  },
  {
   "cell_type": "code",
   "execution_count": 39,
   "metadata": {},
   "outputs": [],
   "source": [
    "files = os.listdir('python101_demo_data/data_wo_sudir/')"
   ]
  },
  {
   "cell_type": "code",
   "execution_count": 43,
   "metadata": {},
   "outputs": [
    {
     "name": "stdout",
     "output_type": "stream",
     "text": [
      "# Proton_A_890_20190328_IonXpress_066.stats.cov.txt\n",
      "Coverage Analysis Report\n",
      "\n",
      "\n",
      "\n",
      "Sample Name: F00535_D1\n",
      "\n",
      "Reference Genome: hg19\n",
      "\n",
      "Target Regions: 4Pool_ONCOv2_Designed_plus_PGx_20170704\n",
      "\n",
      "# Proton_A_890_20190328_IonXpress_062.stats.cov.txt\n",
      "Coverage Analysis Report\n",
      "\n",
      "\n",
      "\n",
      "Sample Name: F00532_D1\n",
      "\n",
      "Reference Genome: hg19\n",
      "\n",
      "Target Regions: 4Pool_ONCOv2_Designed_plus_PGx_20170704\n",
      "\n",
      "# Proton_A_890_20190328_IonXpress_065.stats.cov.txt\n",
      "Coverage Analysis Report\n",
      "\n",
      "\n",
      "\n",
      "Sample Name: F00534_D1\n",
      "\n",
      "Reference Genome: hg19\n",
      "\n",
      "Target Regions: 4Pool_ONCOv2_Designed_plus_PGx_20170704\n",
      "\n",
      "# Proton_A_845_20181220_IonXpress_038.stats.cov.txt\n",
      "Coverage Analysis Report\n",
      "\n",
      "\n",
      "\n",
      "Sample Name: E02148_D1\n",
      "\n",
      "Reference Genome: hg19\n",
      "\n",
      "Target Regions: 4Pool_ONCOv2_Designed_plus_PGx_20170704\n",
      "\n",
      "# Proton_A_878_20190305_IonXpress_071.stats.cov.txt\n",
      "Coverage Analysis Report\n",
      "\n",
      "\n",
      "\n",
      "Sample Name: F00369_D1\n",
      "\n",
      "Reference Genome: hg19\n",
      "\n",
      "Target Regions: Onco2M7_Designed_20180402\n",
      "\n",
      "# Proton_A_878_20190305_IonXpress_075.stats.cov.txt\n",
      "Coverage Analysis Report\n",
      "\n",
      "\n",
      "\n",
      "Sample Name: F00373_D1\n",
      "\n",
      "Reference Genome: hg19\n",
      "\n",
      "Target Regions: ACTBRCA_ACTBRCAv2_PA026_20180425\n",
      "\n",
      "# Proton_A_878_20190305_IonXpress_072.stats.cov.txt\n",
      "Coverage Analysis Report\n",
      "\n",
      "\n",
      "\n",
      "Sample Name: F00371_D1\n",
      "\n",
      "Reference Genome: hg19\n",
      "\n",
      "Target Regions: Onco2M7_Designed_20180402\n",
      "\n",
      "# Proton_A_878_20190305_IonXpress_076.stats.cov.txt\n",
      "Coverage Analysis Report\n",
      "\n",
      "\n",
      "\n",
      "Sample Name: F00378_D1\n",
      "\n",
      "Reference Genome: hg19\n",
      "\n",
      "Target Regions: ACTDrugv4_PNID_PA027M1\n",
      "\n",
      "# Proton_A_878_20190305_IonXpress_077.stats.cov.txt\n",
      "Coverage Analysis Report\n",
      "\n",
      "\n",
      "\n",
      "Sample Name: F00378_R1\n",
      "\n",
      "Reference Genome: hg19\n",
      "\n",
      "Target Regions: CHP2.20131001.designed\n",
      "\n",
      "# Proton_A_878_20190305_IonXpress_073.stats.cov.txt\n",
      "Coverage Analysis Report\n",
      "\n",
      "\n",
      "\n",
      "Sample Name: F00365_D1\n",
      "\n",
      "Reference Genome: hg19\n",
      "\n",
      "Target Regions: PA013_ACTRisk_IAD93167_182_Designed\n",
      "\n",
      "# Proton_A_845_20181220_IonXpress_040.stats.cov.txt\n",
      "Coverage Analysis Report\n",
      "\n",
      "\n",
      "\n",
      "Sample Name: E02163_D1\n",
      "\n",
      "Reference Genome: hg19\n",
      "\n",
      "Target Regions: 4Pool_ONCOv2_Designed_plus_PGx_20170704\n",
      "\n",
      "# Proton_A_878_20190305_IonXpress_074.stats.cov.txt\n",
      "Coverage Analysis Report\n",
      "\n",
      "\n",
      "\n",
      "Sample Name: F00374_D1\n",
      "\n",
      "Reference Genome: hg19\n",
      "\n",
      "Target Regions: PA015_MoniLungv2_IAD124247_231_Designed_addMET\n",
      "\n",
      "# Proton_A_845_20181220_IonXpress_037.stats.cov.txt\n",
      "Coverage Analysis Report\n",
      "\n",
      "\n",
      "\n",
      "Sample Name: E02140_D1\n",
      "\n",
      "Reference Genome: hg19\n",
      "\n",
      "Target Regions: 4Pool_ONCOv2_Designed_plus_PGx_20170704\n",
      "\n",
      "# Proton_A_845_20181220_IonXpress_039.stats.cov.txt\n",
      "Coverage Analysis Report\n",
      "\n",
      "\n",
      "\n",
      "Sample Name: E02162_D1\n",
      "\n",
      "Reference Genome: hg19\n",
      "\n",
      "Target Regions: 4Pool_ONCOv2_Designed_plus_PGx_20170704\n",
      "\n",
      "# Proton_A_890_20190328_IonXpress_063.stats.cov.txt\n",
      "Coverage Analysis Report\n",
      "\n",
      "\n",
      "\n",
      "Sample Name: F00533_D1\n",
      "\n",
      "Reference Genome: hg19\n",
      "\n",
      "Target Regions: 4Pool_ONCOv2_Designed_plus_PGx_20170704\n",
      "\n"
     ]
    }
   ],
   "source": [
    "for i in files:\n",
    "    if i.endswith('txt'):\n",
    "        print('#', i)\n",
    "        path = os.path.join('./python101_demo_data/data_wo_sudir', i)\n",
    "        #path = './python101_demo_data/data_wo_sudir/' + i\n",
    "        with open(path, 'r') as INP:\n",
    "            for i in range(5):\n",
    "                print(INP.readline())    "
   ]
  },
  {
   "cell_type": "code",
   "execution_count": null,
   "metadata": {},
   "outputs": [],
   "source": [
    "\"\"\"\n",
    "%%bash\n",
    "head python101_demo_data/data_wo_sudir/*.txt\n",
    "\"\"\""
   ]
  },
  {
   "cell_type": "code",
   "execution_count": 34,
   "metadata": {},
   "outputs": [
    {
     "name": "stdout",
     "output_type": "stream",
     "text": [
      "./python101_demo_data/data_with_subdir ['CNV', 'VCF'] []\n",
      "./python101_demo_data/data_with_subdir/CNV ['Proton_A_816_20181115', 'Proton_A_858_20181228', 'Proton_A_884_20190315'] []\n",
      "./python101_demo_data/data_with_subdir/CNV/Proton_A_816_20181115 [] ['Proton_A_816_20181115_IonXpress_011.stats.cov.txt', 'Proton_A_816_20181115_IonXpress_014.amplicon.cov.xls', 'Proton_A_816_20181115_IonXpress_009.base.cov.xls', 'Proton_A_816_20181115_IonXpress_010.amplicon.cov.xls', 'Proton_A_816_20181115_IonXpress_012.stats.cov.txt', 'Proton_A_816_20181115_IonXpress_036.stats.cov.txt', 'Proton_A_816_20181115_IonXpress_011.base.cov.xls', 'Proton_A_816_20181115_IonXpress_011.amplicon.cov.xls', 'Proton_A_816_20181115_IonXpress_010.base.cov.xls', 'Proton_A_816_20181115_IonXpress_036.base.cov.xls', 'Proton_A_816_20181115_IonXpress_007.base.cov.xls', 'Proton_A_816_20181115_IonXpress_009.stats.cov.txt', 'Proton_A_816_20181115_IonXpress_009.amplicon.cov.xls', 'Proton_A_816_20181115_IonXpress_012.base.cov.xls', 'Proton_A_816_20181115_IonXpress_037.amplicon.cov.xls', 'Proton_A_816_20181115_IonXpress_037.base.cov.xls', 'Proton_A_816_20181115_IonXpress_037.stats.cov.txt', 'Proton_A_816_20181115_IonXpress_012.amplicon.cov.xls', 'Proton_A_816_20181115_IonXpress_013.base.cov.xls', 'Proton_A_816_20181115_IonXpress_014.base.cov.xls', 'Proton_A_816_20181115_IonXpress_036.amplicon.cov.xls', 'Proton_A_816_20181115_IonXpress_013.stats.cov.txt', 'Proton_A_816_20181115_IonXpress_013.amplicon.cov.xls', 'Proton_A_816_20181115_IonXpress_007.stats.cov.txt', 'Proton_A_816_20181115_IonXpress_010.stats.cov.txt', 'Proton_A_816_20181115_IonXpress_014.stats.cov.txt', 'Proton_A_816_20181115_IonXpress_007.amplicon.cov.xls']\n",
      "./python101_demo_data/data_with_subdir/CNV/Proton_A_858_20181228 [] ['Proton_A_858_20181228_IonXpress_083.base.cov.xls', 'Proton_A_858_20181228_IonXpress_083.stats.cov.txt', 'Proton_A_858_20181228_IonXpress_082.amplicon.cov.xls', 'Proton_A_858_20181228_IonXpress_082.base.cov.xls', 'Proton_A_858_20181228_IonXpress_080.stats.cov.txt', 'Proton_A_858_20181228_IonXpress_083.amplicon.cov.xls', 'Proton_A_858_20181228_IonXpress_080.amplicon.cov.xls', 'Proton_A_858_20181228_IonXpress_081.amplicon.cov.xls', 'Proton_A_858_20181228_IonXpress_080.base.cov.xls', 'Proton_A_858_20181228_IonXpress_081.stats.cov.txt', 'Proton_A_858_20181228_IonXpress_081.base.cov.xls', 'Proton_A_858_20181228_IonXpress_082.stats.cov.txt']\n",
      "./python101_demo_data/data_with_subdir/CNV/Proton_A_884_20190315 [] ['Proton_A_884_20190315_IonXpress_074.amplicon.cov.xls', 'Proton_A_884_20190315_IonXpress_076.stats.cov.txt', 'Proton_A_884_20190315_IonXpress_075.amplicon.cov.xls', 'Proton_A_884_20190315_IonXpress_076.base.cov.xls', 'Proton_A_884_20190315_IonXpress_075.stats.cov.txt', 'Proton_A_884_20190315_IonXpress_076.amplicon.cov.xls', 'Proton_A_884_20190315_IonXpress_074.stats.cov.txt', 'Proton_A_884_20190315_IonXpress_075.base.cov.xls', 'Proton_A_884_20190315_IonXpress_074.base.cov.xls']\n",
      "./python101_demo_data/data_with_subdir/VCF ['Proton_A_870_20190131', 'Proton_A_879_20190307', 'Proton_A_894_20190403'] []\n",
      "./python101_demo_data/data_with_subdir/VCF/Proton_A_870_20190131 [] ['Proton_A_870_20190131_IonXpress_028_TSVC_variants.vcf', 'Proton_A_870_20190131_IonXpress_034_TSVC_variants.vcf', 'Proton_A_870_20190131_IonXpress_029_TSVC_variants.vcf', 'Proton_A_870_20190131_IonXpress_035_TSVC_variants.vcf', 'Proton_A_870_20190131_IonXpress_007_TSVC_variants.vcf', 'Proton_A_870_20190131_IonXpress_033_TSVC_variants.vcf', 'Proton_A_870_20190131_IonXpress_036_TSVC_variants.vcf', 'Proton_A_870_20190131_IonXpress_032_TSVC_variants.vcf', 'Proton_A_870_20190131_IonXpress_037_TSVC_variants.vcf', 'Proton_A_870_20190131_IonXpress_040_TSVC_variants.vcf', 'Proton_A_870_20190131_IonXpress_038_TSVC_variants.vcf']\n",
      "./python101_demo_data/data_with_subdir/VCF/Proton_A_879_20190307 [] ['Proton_A_879_20190307_IonXpress_009_TSVC_variants.vcf', 'Proton_A_879_20190307_IonXpress_010_TSVC_variants.vcf', 'Proton_A_879_20190307_IonXpress_008_TSVC_variants.vcf', 'Proton_A_879_20190307_IonXpress_096_TSVC_variants.vcf', 'Proton_A_879_20190307_IonXpress_093_TSVC_variants.vcf', 'Proton_A_879_20190307_IonXpress_004_TSVC_variants.vcf', 'Proton_A_879_20190307_IonXpress_005_TSVC_variants.vcf', 'Proton_A_879_20190307_IonXpress_003_TSVC_variants.vcf', 'Proton_A_879_20190307_IonXpress_081_TSVC_variants.vcf']\n",
      "./python101_demo_data/data_with_subdir/VCF/Proton_A_894_20190403 [] ['Proton_A_894_20190403_IonXpress_082_TSVC_variants.vcf', 'Proton_A_894_20190403_IonXpress_087_TSVC_variants.vcf', 'Proton_A_894_20190403_IonXpress_083_TSVC_variants.vcf', 'Proton_A_894_20190403_IonXpress_086_TSVC_variants.vcf', 'Proton_A_894_20190403_IonXpress_064_TSVC_variants.vcf', 'Proton_A_894_20190403_IonXpress_085_TSVC_variants.vcf', 'Proton_A_894_20190403_IonXpress_081_TSVC_variants.vcf', 'Proton_A_894_20190403_IonXpress_084_TSVC_variants.vcf', 'Proton_A_894_20190403_IonXpress_041_TSVC_variants.vcf', 'Proton_A_894_20190403_IonXpress_088_TSVC_variants.vcf', 'Proton_A_894_20190403_IonXpress_042_TSVC_variants.vcf']\n"
     ]
    }
   ],
   "source": [
    "for root,subdirs,files in os.walk('./python101_demo_data/data_with_subdir'):\n",
    "    print(root, subdirs, files)\n"
   ]
  },
  {
   "cell_type": "markdown",
   "metadata": {},
   "source": [
    "# Take home note\n",
    "\n",
    "1. open file\n",
    "2. remember to close \n",
    "3. os walk \n",
    "4. 絕對路徑和相對路徑"
   ]
  }
 ],
 "metadata": {
  "kernelspec": {
   "display_name": "Python 3",
   "language": "python",
   "name": "python3"
  },
  "language_info": {
   "codemirror_mode": {
    "name": "ipython",
    "version": 3
   },
   "file_extension": ".py",
   "mimetype": "text/x-python",
   "name": "python",
   "nbconvert_exporter": "python",
   "pygments_lexer": "ipython3",
   "version": "3.7.2"
  }
 },
 "nbformat": 4,
 "nbformat_minor": 2
}
