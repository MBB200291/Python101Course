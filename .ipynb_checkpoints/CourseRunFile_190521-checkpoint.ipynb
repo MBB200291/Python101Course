{
 "cells": [
  {
   "cell_type": "code",
   "execution_count": null,
   "metadata": {},
   "outputs": [],
   "source": [
    "# read file content\n",
    "# search file path"
   ]
  },
  {
   "cell_type": "code",
   "execution_count": null,
   "metadata": {},
   "outputs": [],
   "source": [
    "# path\n",
    "# relative path\n",
    "# absolute path"
   ]
  },
  {
   "cell_type": "code",
   "execution_count": null,
   "metadata": {},
   "outputs": [],
   "source": [
    "# list .ipynb"
   ]
  },
  {
   "cell_type": "code",
   "execution_count": 6,
   "metadata": {},
   "outputs": [],
   "source": [
    "file_path = '/Users/linbangqi/Documents/GitHub/Python101Course'"
   ]
  },
  {
   "cell_type": "code",
   "execution_count": 5,
   "metadata": {},
   "outputs": [
    {
     "data": {
      "text/plain": [
       "['s456004379951604355_p1_i1_w400.jpeg',\n",
       " '四則運算.py_test.txt',\n",
       " 'excel_demo.xlsx',\n",
       " 'CourseRunFile_190402.ipynb',\n",
       " '.DS_Store',\n",
       " 'python101_demo_data.zip',\n",
       " 'CourseRunFile_190423.ipynb',\n",
       " 'project1.ipynb',\n",
       " 'demo.ipynb',\n",
       " 'demo2.ipynb',\n",
       " 'CourseRunFile_190521.ipynb',\n",
       " '__pycache__',\n",
       " 'test.py',\n",
       " 'CourseRunFile_190507.ipynb',\n",
       " 'test2.py',\n",
       " 'README.md',\n",
       " 'python101_demo_data',\n",
       " 'CourseRunFile_190430.ipynb',\n",
       " 'python_code.py',\n",
       " 'CourseNote_20190402.md',\n",
       " 'index.md',\n",
       " '_config.yml',\n",
       " 'CourseRunFile_190514.ipynb',\n",
       " 'CourseRunFile_190409.ipynb',\n",
       " 'test3.py',\n",
       " '.ipynb_checkpoints',\n",
       " '.git',\n",
       " '四則運算.py']"
      ]
     },
     "execution_count": 5,
     "metadata": {},
     "output_type": "execute_result"
    }
   ],
   "source": [
    "import os\n",
    "os.listdir(file_path)"
   ]
  },
  {
   "cell_type": "code",
   "execution_count": 7,
   "metadata": {},
   "outputs": [
    {
     "name": "stdout",
     "output_type": "stream",
     "text": [
      "CourseRunFile_190402.ipynb\n",
      "CourseRunFile_190423.ipynb\n",
      "project1.ipynb\n",
      "demo.ipynb\n",
      "demo2.ipynb\n",
      "CourseRunFile_190521.ipynb\n",
      "CourseRunFile_190507.ipynb\n",
      "CourseRunFile_190430.ipynb\n",
      "CourseRunFile_190514.ipynb\n",
      "CourseRunFile_190409.ipynb\n"
     ]
    }
   ],
   "source": [
    "for file in os.listdir(file_path):\n",
    "    if file.endswith('ipynb'):\n",
    "        print(file)"
   ]
  },
  {
   "cell_type": "code",
   "execution_count": 84,
   "metadata": {},
   "outputs": [],
   "source": [
    "def PrintGivenFilePath(path_dir, keywords, FUN=lambda x:1):\n",
    "    for root, subdir, files in os.walk(path_dir): #sudir是指在該路徑下的所有資料夾\n",
    "        for file in files:\n",
    "            if keywords in file:\n",
    "                abs_path = os.path.join(root, file)\n",
    "                print(abs_path)\n",
    "                FUN(abs_path)"
   ]
  },
  {
   "cell_type": "code",
   "execution_count": null,
   "metadata": {},
   "outputs": [],
   "source": [
    "def PrintGivenFilePath2(FUN, **kwargs):\n",
    "    for root, subdir, files in os.walk(path_dir): #sudir是指在該路徑下的所有資料夾\n",
    "        for file in files:\n",
    "            if keywords in file:\n",
    "                abs_path = os.path.join(root, file)\n",
    "                print(abs_path)\n",
    "                args[2] = abs_path\n",
    "                FUN(args)\n",
    "                \n",
    "                \n",
    "                        path_dir, keywords, FUN=lambda *args:1):\n",
    "    for root, subdir, files in os.walk(path_dir): #sudir是指在該路徑下的所有資料夾\n",
    "        for file in files:\n",
    "            if keywords in file:\n",
    "                abs_path = os.path.join(root, file)\n",
    "                print(abs_path)\n",
    "                args[2] = abs_path\n",
    "                FUN(*args)"
   ]
  },
  {
   "cell_type": "code",
   "execution_count": 23,
   "metadata": {},
   "outputs": [],
   "source": [
    "def PrintBegin5Lines(path_files, topNline=5):\n",
    "    with open(path_files, 'r', encoding='utf8') as inp:\n",
    "        print('> ', path_files)\n",
    "        for i in range(topNline):\n",
    "            print(' ', inp.readline())"
   ]
  },
  {
   "cell_type": "code",
   "execution_count": 26,
   "metadata": {},
   "outputs": [],
   "source": [
    "def PrintTail5Lines(path_files, botNline=5):\n",
    "    botNline = int(botNline)\n",
    "    with open(path_files, 'r', encoding='utf8') as inp:\n",
    "        print('> ', path_files)\n",
    "        for i in inp.readlines()[-1*botNline:]:\n",
    "            print(' ', i)"
   ]
  },
  {
   "cell_type": "code",
   "execution_count": 38,
   "metadata": {},
   "outputs": [],
   "source": [
    "def PrintNlines(path_files, N=5): # top is +n, tail is -n\n",
    "    N = int(N)\n",
    "    with open(path_files, 'r', encoding='utf8') as inp:\n",
    "        print('> ', path_files)\n",
    "        if N>=0:\n",
    "            for i in inp.readlines()[:N]:\n",
    "                print(' ', i)\n",
    "        else:\n",
    "            for i in inp.readlines()[N:]:\n",
    "                print(' ', i)"
   ]
  },
  {
   "cell_type": "code",
   "execution_count": 73,
   "metadata": {},
   "outputs": [],
   "source": [
    "def PrintNlinetoNline(path_files, b,e): # top is +n, tail is -n input: must be path_files=, b, e=\n",
    "    with open(path_files, 'r', encoding='utf8') as inp:\n",
    "        print('> ', path_files)\n",
    "        for i,line in enumerate(inp):\n",
    "            if i >= b and i <= e:\n",
    "                print(' ', line.strip())"
   ]
  },
  {
   "cell_type": "code",
   "execution_count": 85,
   "metadata": {},
   "outputs": [
    {
     "name": "stdout",
     "output_type": "stream",
     "text": [
      "/Users/linbangqi/Documents/GitHub/Python101Course/CourseRunFile_190514.ipynb\n",
      ">  /Users/linbangqi/Documents/GitHub/Python101Course/CourseRunFile_190514.ipynb\n",
      "  {\n",
      "\n",
      "   \"cells\": [\n",
      "\n",
      "    {\n",
      "\n",
      "     \"cell_type\": \"code\",\n",
      "\n",
      "     \"execution_count\": 1,\n",
      "\n",
      "/Users/linbangqi/Documents/GitHub/Python101Course/.ipynb_checkpoints/CourseRunFile_190514-checkpoint.ipynb\n",
      ">  /Users/linbangqi/Documents/GitHub/Python101Course/.ipynb_checkpoints/CourseRunFile_190514-checkpoint.ipynb\n",
      "  {\n",
      "\n",
      "   \"cells\": [\n",
      "\n",
      "    {\n",
      "\n",
      "     \"cell_type\": \"code\",\n",
      "\n",
      "     \"execution_count\": 1,\n",
      "\n"
     ]
    }
   ],
   "source": [
    "PrintGivenFilePath(file_path, \"190514\", PrintNlines)"
   ]
  },
  {
   "cell_type": "code",
   "execution_count": null,
   "metadata": {},
   "outputs": [],
   "source": [
    "PrintGivenFilePath(file_path, \"190514\", PrintNlinetoNline)"
   ]
  },
  {
   "cell_type": "code",
   "execution_count": null,
   "metadata": {},
   "outputs": [],
   "source": []
  },
  {
   "cell_type": "code",
   "execution_count": 86,
   "metadata": {},
   "outputs": [
    {
     "name": "stdout",
     "output_type": "stream",
     "text": [
      ">  0\n",
      "/Users/linbangqi/Documents/GitHub/Python101Course/四則運算.py_test.txt\n"
     ]
    },
    {
     "ename": "TypeError",
     "evalue": "'NoneType' object is not callable",
     "output_type": "error",
     "traceback": [
      "\u001b[0;31m---------------------------------------------------------------------------\u001b[0m",
      "\u001b[0;31mTypeError\u001b[0m                                 Traceback (most recent call last)",
      "\u001b[0;32m<ipython-input-86-382c84d0d952>\u001b[0m in \u001b[0;36m<module>\u001b[0;34m\u001b[0m\n\u001b[0;32m----> 1\u001b[0;31m \u001b[0mPrintGivenFilePath\u001b[0m\u001b[0;34m(\u001b[0m\u001b[0mfile_path\u001b[0m\u001b[0;34m,\u001b[0m \u001b[0;34m\".txt\"\u001b[0m\u001b[0;34m,\u001b[0m \u001b[0mPrintNlinetoNline\u001b[0m\u001b[0;34m(\u001b[0m\u001b[0;36m1\u001b[0m\u001b[0;34m,\u001b[0m\u001b[0;36m3\u001b[0m\u001b[0;34m,\u001b[0m \u001b[0;36m0\u001b[0m\u001b[0;34m)\u001b[0m\u001b[0;34m)\u001b[0m\u001b[0;34m\u001b[0m\u001b[0;34m\u001b[0m\u001b[0m\n\u001b[0m",
      "\u001b[0;32m<ipython-input-84-477133a9cb73>\u001b[0m in \u001b[0;36mPrintGivenFilePath\u001b[0;34m(path_dir, keywords, FUN)\u001b[0m\n\u001b[1;32m      5\u001b[0m                 \u001b[0mabs_path\u001b[0m \u001b[0;34m=\u001b[0m \u001b[0mos\u001b[0m\u001b[0;34m.\u001b[0m\u001b[0mpath\u001b[0m\u001b[0;34m.\u001b[0m\u001b[0mjoin\u001b[0m\u001b[0;34m(\u001b[0m\u001b[0mroot\u001b[0m\u001b[0;34m,\u001b[0m \u001b[0mfile\u001b[0m\u001b[0;34m)\u001b[0m\u001b[0;34m\u001b[0m\u001b[0;34m\u001b[0m\u001b[0m\n\u001b[1;32m      6\u001b[0m                 \u001b[0mprint\u001b[0m\u001b[0;34m(\u001b[0m\u001b[0mabs_path\u001b[0m\u001b[0;34m)\u001b[0m\u001b[0;34m\u001b[0m\u001b[0;34m\u001b[0m\u001b[0m\n\u001b[0;32m----> 7\u001b[0;31m                 \u001b[0mFUN\u001b[0m\u001b[0;34m(\u001b[0m\u001b[0mabs_path\u001b[0m\u001b[0;34m)\u001b[0m\u001b[0;34m\u001b[0m\u001b[0;34m\u001b[0m\u001b[0m\n\u001b[0m",
      "\u001b[0;31mTypeError\u001b[0m: 'NoneType' object is not callable"
     ]
    }
   ],
   "source": [
    "PrintGivenFilePath(file_path, \".txt\", PrintNlinetoNline)"
   ]
  },
  {
   "cell_type": "code",
   "execution_count": 33,
   "metadata": {},
   "outputs": [
    {
     "name": "stdout",
     "output_type": "stream",
     "text": [
      ":neutral_face:\n",
      "\n"
     ]
    }
   ],
   "source": [
    "with open('./README.md', 'r') as inp:\n",
    "    for i in inp:\n",
    "        I = i\n",
    "    print(I)"
   ]
  },
  {
   "cell_type": "code",
   "execution_count": null,
   "metadata": {},
   "outputs": [],
   "source": [
    "# to read line into list\n",
    "def ReadToList(path_file):\n",
    "    with open(path_file, 'r', encoding='utf8') as inp:\n",
    "        # method1\n",
    "        return [x.replace('\\n', '') for x in inp.readlines()]\n",
    "        # method2\n",
    "        return \n",
    "        # method3\n",
    "        return inp.read().splitlines() #可去除斷行符號"
   ]
  },
  {
   "cell_type": "raw",
   "metadata": {},
   "source": [
    "# write content"
   ]
  },
  {
   "cell_type": "code",
   "execution_count": 75,
   "metadata": {},
   "outputs": [],
   "source": [
    "content = os.getcwd()"
   ]
  },
  {
   "cell_type": "code",
   "execution_count": 76,
   "metadata": {},
   "outputs": [
    {
     "data": {
      "text/plain": [
       "'/Users/linbangqi/Documents/GitHub/Python101Course'"
      ]
     },
     "execution_count": 76,
     "metadata": {},
     "output_type": "execute_result"
    }
   ],
   "source": [
    "content"
   ]
  },
  {
   "cell_type": "code",
   "execution_count": 78,
   "metadata": {},
   "outputs": [
    {
     "ename": "FileExistsError",
     "evalue": "[Errno 17] File exists: './demo_test.txt'",
     "output_type": "error",
     "traceback": [
      "\u001b[0;31m---------------------------------------------------------------------------\u001b[0m",
      "\u001b[0;31mFileExistsError\u001b[0m                           Traceback (most recent call last)",
      "\u001b[0;32m<ipython-input-78-687df2ff50f1>\u001b[0m in \u001b[0;36m<module>\u001b[0;34m\u001b[0m\n\u001b[0;32m----> 1\u001b[0;31m \u001b[0;32mwith\u001b[0m \u001b[0mopen\u001b[0m\u001b[0;34m(\u001b[0m\u001b[0;34m'./demo_test.txt'\u001b[0m\u001b[0;34m,\u001b[0m \u001b[0;34m'x'\u001b[0m\u001b[0;34m)\u001b[0m \u001b[0;32mas\u001b[0m \u001b[0mout\u001b[0m\u001b[0;34m:\u001b[0m\u001b[0;34m\u001b[0m\u001b[0;34m\u001b[0m\u001b[0m\n\u001b[0m\u001b[1;32m      2\u001b[0m     \u001b[0mout\u001b[0m\u001b[0;34m.\u001b[0m\u001b[0mwrite\u001b[0m\u001b[0;34m(\u001b[0m\u001b[0mcontent\u001b[0m\u001b[0;34m)\u001b[0m\u001b[0;34m\u001b[0m\u001b[0;34m\u001b[0m\u001b[0m\n",
      "\u001b[0;31mFileExistsError\u001b[0m: [Errno 17] File exists: './demo_test.txt'"
     ]
    }
   ],
   "source": [
    "with open('./demo_test.txt', 'x') as out:\n",
    "    out.write(content)"
   ]
  },
  {
   "cell_type": "code",
   "execution_count": null,
   "metadata": {},
   "outputs": [],
   "source": []
  }
 ],
 "metadata": {
  "kernelspec": {
   "display_name": "Python 3",
   "language": "python",
   "name": "python3"
  },
  "language_info": {
   "codemirror_mode": {
    "name": "ipython",
    "version": 3
   },
   "file_extension": ".py",
   "mimetype": "text/x-python",
   "name": "python",
   "nbconvert_exporter": "python",
   "pygments_lexer": "ipython3",
   "version": "3.7.2"
  }
 },
 "nbformat": 4,
 "nbformat_minor": 2
}
