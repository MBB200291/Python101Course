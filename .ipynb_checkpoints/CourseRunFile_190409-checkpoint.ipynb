{
 "cells": [
  {
   "cell_type": "code",
   "execution_count": null,
   "metadata": {},
   "outputs": [],
   "source": [
    "## 低階語言 vs 高階語言\n"
   ]
  },
  {
   "cell_type": "code",
   "execution_count": 1,
   "metadata": {},
   "outputs": [],
   "source": [
    "a = '11aabbcc'"
   ]
  },
  {
   "cell_type": "code",
   "execution_count": 2,
   "metadata": {},
   "outputs": [
    {
     "data": {
      "text/plain": [
       "2"
      ]
     },
     "execution_count": 2,
     "metadata": {},
     "output_type": "execute_result"
    }
   ],
   "source": [
    "a.count('a')"
   ]
  },
  {
   "cell_type": "code",
   "execution_count": 5,
   "metadata": {},
   "outputs": [
    {
     "data": {
      "text/plain": [
       "\u001b[0;31mDocstring:\u001b[0m\n",
       "S.count(sub[, start[, end]]) -> int\n",
       "\n",
       "Return the number of non-overlapping occurrences of substring sub in\n",
       "string S[start:end].  Optional arguments start and end are\n",
       "interpreted as in slice notation.\n",
       "\u001b[0;31mType:\u001b[0m      builtin_function_or_method\n"
      ]
     },
     "metadata": {},
     "output_type": "display_data"
    }
   ],
   "source": [
    "?a.count"
   ]
  },
  {
   "cell_type": "code",
   "execution_count": 6,
   "metadata": {},
   "outputs": [
    {
     "data": {
      "text/plain": [
       "2"
      ]
     },
     "execution_count": 6,
     "metadata": {},
     "output_type": "execute_result"
    }
   ],
   "source": [
    "a = 'aaaaaa'\n",
    "a.count('aaa')"
   ]
  },
  {
   "cell_type": "markdown",
   "metadata": {},
   "source": [
    "#Exercise A"
   ]
  },
  {
   "cell_type": "code",
   "execution_count": 61,
   "metadata": {},
   "outputs": [],
   "source": [
    "import os"
   ]
  },
  {
   "cell_type": "code",
   "execution_count": 14,
   "metadata": {},
   "outputs": [],
   "source": [
    "os.chdir('/Users/linbangqi/Desktop/python101_demo_data/data_wo_sudir/')"
   ]
  },
  {
   "cell_type": "code",
   "execution_count": 16,
   "metadata": {},
   "outputs": [],
   "source": [
    "files = os.listdir()"
   ]
  },
  {
   "cell_type": "code",
   "execution_count": 17,
   "metadata": {},
   "outputs": [
    {
     "data": {
      "text/plain": [
       "{'txt', 'vcf', 'xls'}"
      ]
     },
     "execution_count": 17,
     "metadata": {},
     "output_type": "execute_result"
    }
   ],
   "source": [
    "set([x.split('.')[-1] for x in files])"
   ]
  },
  {
   "cell_type": "code",
   "execution_count": 57,
   "metadata": {},
   "outputs": [
    {
     "name": "stdout",
     "output_type": "stream",
     "text": [
      "15 19 30\n",
      "CPU times: user 342 µs, sys: 134 µs, total: 476 µs\n",
      "Wall time: 372 µs\n"
     ]
    }
   ],
   "source": [
    "%%time\n",
    "# Method A\n",
    "num_txt = len([x for x in files if x[-3:] == 'txt'])\n",
    "num_vcf = len([x for x in files if x[-3:] == 'vcf'])\n",
    "num_xls = len([x for x in files if x[-3:] == 'xls'])\n",
    "print(num_txt, num_vcf, num_xls)"
   ]
  },
  {
   "cell_type": "code",
   "execution_count": 27,
   "metadata": {},
   "outputs": [
    {
     "data": {
      "text/plain": [
       "(15, 19, 30)"
      ]
     },
     "execution_count": 27,
     "metadata": {},
     "output_type": "execute_result"
    }
   ],
   "source": [
    "num_txt, num_vcf, num_xls"
   ]
  },
  {
   "cell_type": "code",
   "execution_count": 44,
   "metadata": {},
   "outputs": [],
   "source": [
    "a = r'\\a\\b\\c\\d'\n",
    "b = '\\a\\b\\c\\d'"
   ]
  },
  {
   "cell_type": "code",
   "execution_count": 47,
   "metadata": {},
   "outputs": [
    {
     "data": {
      "text/plain": [
       "('\\\\a\\\\b\\\\c\\\\d', '\\x07\\x08\\\\c\\\\d')"
      ]
     },
     "execution_count": 47,
     "metadata": {},
     "output_type": "execute_result"
    }
   ],
   "source": [
    "a, b"
   ]
  },
  {
   "cell_type": "code",
   "execution_count": 46,
   "metadata": {},
   "outputs": [
    {
     "name": "stdout",
     "output_type": "stream",
     "text": [
      "\\a\\b\\c\\d \\c\\d\n"
     ]
    }
   ],
   "source": [
    "print(a, b)"
   ]
  },
  {
   "cell_type": "code",
   "execution_count": 58,
   "metadata": {},
   "outputs": [
    {
     "name": "stdout",
     "output_type": "stream",
     "text": [
      "15 19 30\n",
      "CPU times: user 644 µs, sys: 448 µs, total: 1.09 ms\n",
      "Wall time: 742 µs\n"
     ]
    }
   ],
   "source": [
    "%%time\n",
    "# Method B\n",
    "list_temp=[]\n",
    "for i in files:\n",
    "    list_temp.append(i[-3:])\n",
    "num_txt = list_temp.count('txt')\n",
    "num_vcf = list_temp.count('vcf')\n",
    "num_xls = list_temp.count('xls')\n",
    "print(num_txt, num_vcf, num_xls)"
   ]
  },
  {
   "cell_type": "code",
   "execution_count": 59,
   "metadata": {},
   "outputs": [
    {
     "name": "stdout",
     "output_type": "stream",
     "text": [
      "15 19 30\n",
      "CPU times: user 406 µs, sys: 159 µs, total: 565 µs\n",
      "Wall time: 465 µs\n"
     ]
    }
   ],
   "source": [
    "%%time\n",
    "# Method C\n",
    "list_TXT_VCF_XLS=[0,0,0]\n",
    "for i in files:\n",
    "    if i.endswith('txt'):\n",
    "        list_TXT_VCF_XLS[0] += 1\n",
    "    elif i.endswith('vcf'):\n",
    "        list_TXT_VCF_XLS[1] += 1     \n",
    "    elif i.endswith('xls'):\n",
    "        list_TXT_VCF_XLS[2] += 1\n",
    "print(num_txt, num_vcf, num_xls)"
   ]
  },
  {
   "cell_type": "code",
   "execution_count": 60,
   "metadata": {},
   "outputs": [
    {
     "name": "stdout",
     "output_type": "stream",
     "text": [
      "15 19 30\n",
      "CPU times: user 303 µs, sys: 137 µs, total: 440 µs\n",
      "Wall time: 353 µs\n"
     ]
    }
   ],
   "source": [
    "%%time\n",
    "# Method D\n",
    "list_TXT_VCF_XLS=[0,0,0]\n",
    "for i in files:\n",
    "    if i[-3:] == 'txt':\n",
    "        list_TXT_VCF_XLS[0] += 1\n",
    "    elif i[-3:] == 'vcf':\n",
    "        list_TXT_VCF_XLS[1] += 1     \n",
    "    elif i[-3:] == 'xls':\n",
    "        list_TXT_VCF_XLS[2] += 1\n",
    "print(num_txt, num_vcf, num_xls)"
   ]
  },
  {
   "cell_type": "code",
   "execution_count": 64,
   "metadata": {},
   "outputs": [
    {
     "name": "stdout",
     "output_type": "stream",
     "text": [
      "appple\\nbanna\n"
     ]
    }
   ],
   "source": [
    "print('appple\\nbanna')"
   ]
  },
  {
   "cell_type": "code",
   "execution_count": null,
   "metadata": {},
   "outputs": [],
   "source": [
    "# Exercise 2 -- os.walk(<PATH>)"
   ]
  },
  {
   "cell_type": "code",
   "execution_count": null,
   "metadata": {},
   "outputs": [],
   "source": []
  },
  {
   "cell_type": "code",
   "execution_count": 79,
   "metadata": {},
   "outputs": [],
   "source": [
    "\n",
    "def SearchFile(KEYWORD):\n",
    "    # search file name containing keyword\n",
    "    for root,subdirs,files in os.walk('/Users/linbangqi/Desktop/python101_demo_data/data_with_subdir'):\n",
    "        #print(root)\n",
    "        #print(subdirs)\n",
    "        #print(files)\n",
    "        for f in files:\n",
    "            if KEYWORD in f:\n",
    "                path = f'{root}/{f}'\n",
    "                print(path)\n"
   ]
  },
  {
   "cell_type": "code",
   "execution_count": 92,
   "metadata": {},
   "outputs": [
    {
     "name": "stdout",
     "output_type": "stream",
     "text": [
      "/Users/linbangqi/Desktop/python101_demo_data/data_with_subdir/CNV/Proton_A_816_20181115/Proton_A_816_20181115_IonXpress_011.stats.cov.txt\n",
      "/Users/linbangqi/Desktop/python101_demo_data/data_with_subdir/CNV/Proton_A_816_20181115/Proton_A_816_20181115_IonXpress_014.amplicon.cov.xls\n",
      "/Users/linbangqi/Desktop/python101_demo_data/data_with_subdir/CNV/Proton_A_816_20181115/Proton_A_816_20181115_IonXpress_009.base.cov.xls\n",
      "/Users/linbangqi/Desktop/python101_demo_data/data_with_subdir/CNV/Proton_A_816_20181115/Proton_A_816_20181115_IonXpress_010.amplicon.cov.xls\n",
      "/Users/linbangqi/Desktop/python101_demo_data/data_with_subdir/CNV/Proton_A_816_20181115/Proton_A_816_20181115_IonXpress_012.stats.cov.txt\n",
      "/Users/linbangqi/Desktop/python101_demo_data/data_with_subdir/CNV/Proton_A_816_20181115/Proton_A_816_20181115_IonXpress_036.stats.cov.txt\n",
      "/Users/linbangqi/Desktop/python101_demo_data/data_with_subdir/CNV/Proton_A_816_20181115/Proton_A_816_20181115_IonXpress_011.base.cov.xls\n",
      "/Users/linbangqi/Desktop/python101_demo_data/data_with_subdir/CNV/Proton_A_816_20181115/Proton_A_816_20181115_IonXpress_011.amplicon.cov.xls\n",
      "/Users/linbangqi/Desktop/python101_demo_data/data_with_subdir/CNV/Proton_A_816_20181115/Proton_A_816_20181115_IonXpress_010.base.cov.xls\n",
      "/Users/linbangqi/Desktop/python101_demo_data/data_with_subdir/CNV/Proton_A_816_20181115/Proton_A_816_20181115_IonXpress_036.base.cov.xls\n",
      "/Users/linbangqi/Desktop/python101_demo_data/data_with_subdir/CNV/Proton_A_816_20181115/Proton_A_816_20181115_IonXpress_007.base.cov.xls\n",
      "/Users/linbangqi/Desktop/python101_demo_data/data_with_subdir/CNV/Proton_A_816_20181115/Proton_A_816_20181115_IonXpress_009.stats.cov.txt\n",
      "/Users/linbangqi/Desktop/python101_demo_data/data_with_subdir/CNV/Proton_A_816_20181115/Proton_A_816_20181115_IonXpress_009.amplicon.cov.xls\n",
      "/Users/linbangqi/Desktop/python101_demo_data/data_with_subdir/CNV/Proton_A_816_20181115/Proton_A_816_20181115_IonXpress_012.base.cov.xls\n",
      "/Users/linbangqi/Desktop/python101_demo_data/data_with_subdir/CNV/Proton_A_816_20181115/Proton_A_816_20181115_IonXpress_037.amplicon.cov.xls\n",
      "/Users/linbangqi/Desktop/python101_demo_data/data_with_subdir/CNV/Proton_A_816_20181115/Proton_A_816_20181115_IonXpress_037.base.cov.xls\n",
      "/Users/linbangqi/Desktop/python101_demo_data/data_with_subdir/CNV/Proton_A_816_20181115/Proton_A_816_20181115_IonXpress_037.stats.cov.txt\n",
      "/Users/linbangqi/Desktop/python101_demo_data/data_with_subdir/CNV/Proton_A_816_20181115/Proton_A_816_20181115_IonXpress_012.amplicon.cov.xls\n",
      "/Users/linbangqi/Desktop/python101_demo_data/data_with_subdir/CNV/Proton_A_816_20181115/Proton_A_816_20181115_IonXpress_013.base.cov.xls\n",
      "/Users/linbangqi/Desktop/python101_demo_data/data_with_subdir/CNV/Proton_A_816_20181115/Proton_A_816_20181115_IonXpress_014.base.cov.xls\n",
      "/Users/linbangqi/Desktop/python101_demo_data/data_with_subdir/CNV/Proton_A_816_20181115/Proton_A_816_20181115_IonXpress_036.amplicon.cov.xls\n",
      "/Users/linbangqi/Desktop/python101_demo_data/data_with_subdir/CNV/Proton_A_816_20181115/Proton_A_816_20181115_IonXpress_013.stats.cov.txt\n",
      "/Users/linbangqi/Desktop/python101_demo_data/data_with_subdir/CNV/Proton_A_816_20181115/Proton_A_816_20181115_IonXpress_013.amplicon.cov.xls\n",
      "/Users/linbangqi/Desktop/python101_demo_data/data_with_subdir/CNV/Proton_A_816_20181115/Proton_A_816_20181115_IonXpress_007.stats.cov.txt\n",
      "/Users/linbangqi/Desktop/python101_demo_data/data_with_subdir/CNV/Proton_A_816_20181115/Proton_A_816_20181115_IonXpress_010.stats.cov.txt\n",
      "/Users/linbangqi/Desktop/python101_demo_data/data_with_subdir/CNV/Proton_A_816_20181115/Proton_A_816_20181115_IonXpress_014.stats.cov.txt\n",
      "/Users/linbangqi/Desktop/python101_demo_data/data_with_subdir/CNV/Proton_A_816_20181115/Proton_A_816_20181115_IonXpress_007.amplicon.cov.xls\n",
      "/Users/linbangqi/Desktop/python101_demo_data/data_with_subdir/CNV/Proton_A_858_20181228/Proton_A_858_20181228_IonXpress_083.base.cov.xls\n",
      "/Users/linbangqi/Desktop/python101_demo_data/data_with_subdir/CNV/Proton_A_858_20181228/Proton_A_858_20181228_IonXpress_083.stats.cov.txt\n",
      "/Users/linbangqi/Desktop/python101_demo_data/data_with_subdir/CNV/Proton_A_858_20181228/Proton_A_858_20181228_IonXpress_082.amplicon.cov.xls\n",
      "/Users/linbangqi/Desktop/python101_demo_data/data_with_subdir/CNV/Proton_A_858_20181228/Proton_A_858_20181228_IonXpress_082.base.cov.xls\n",
      "/Users/linbangqi/Desktop/python101_demo_data/data_with_subdir/CNV/Proton_A_858_20181228/Proton_A_858_20181228_IonXpress_080.stats.cov.txt\n",
      "/Users/linbangqi/Desktop/python101_demo_data/data_with_subdir/CNV/Proton_A_858_20181228/Proton_A_858_20181228_IonXpress_083.amplicon.cov.xls\n",
      "/Users/linbangqi/Desktop/python101_demo_data/data_with_subdir/CNV/Proton_A_858_20181228/Proton_A_858_20181228_IonXpress_080.amplicon.cov.xls\n",
      "/Users/linbangqi/Desktop/python101_demo_data/data_with_subdir/CNV/Proton_A_858_20181228/Proton_A_858_20181228_IonXpress_081.amplicon.cov.xls\n",
      "/Users/linbangqi/Desktop/python101_demo_data/data_with_subdir/CNV/Proton_A_858_20181228/Proton_A_858_20181228_IonXpress_080.base.cov.xls\n",
      "/Users/linbangqi/Desktop/python101_demo_data/data_with_subdir/CNV/Proton_A_858_20181228/Proton_A_858_20181228_IonXpress_081.stats.cov.txt\n",
      "/Users/linbangqi/Desktop/python101_demo_data/data_with_subdir/CNV/Proton_A_858_20181228/Proton_A_858_20181228_IonXpress_081.base.cov.xls\n",
      "/Users/linbangqi/Desktop/python101_demo_data/data_with_subdir/CNV/Proton_A_858_20181228/Proton_A_858_20181228_IonXpress_082.stats.cov.txt\n",
      "/Users/linbangqi/Desktop/python101_demo_data/data_with_subdir/CNV/Proton_A_884_20190315/Proton_A_884_20190315_IonXpress_074.amplicon.cov.xls\n",
      "/Users/linbangqi/Desktop/python101_demo_data/data_with_subdir/CNV/Proton_A_884_20190315/Proton_A_884_20190315_IonXpress_076.stats.cov.txt\n",
      "/Users/linbangqi/Desktop/python101_demo_data/data_with_subdir/CNV/Proton_A_884_20190315/Proton_A_884_20190315_IonXpress_075.amplicon.cov.xls\n",
      "/Users/linbangqi/Desktop/python101_demo_data/data_with_subdir/CNV/Proton_A_884_20190315/Proton_A_884_20190315_IonXpress_076.base.cov.xls\n",
      "/Users/linbangqi/Desktop/python101_demo_data/data_with_subdir/CNV/Proton_A_884_20190315/Proton_A_884_20190315_IonXpress_075.stats.cov.txt\n",
      "/Users/linbangqi/Desktop/python101_demo_data/data_with_subdir/CNV/Proton_A_884_20190315/Proton_A_884_20190315_IonXpress_076.amplicon.cov.xls\n",
      "/Users/linbangqi/Desktop/python101_demo_data/data_with_subdir/CNV/Proton_A_884_20190315/Proton_A_884_20190315_IonXpress_074.stats.cov.txt\n",
      "/Users/linbangqi/Desktop/python101_demo_data/data_with_subdir/CNV/Proton_A_884_20190315/Proton_A_884_20190315_IonXpress_075.base.cov.xls\n",
      "/Users/linbangqi/Desktop/python101_demo_data/data_with_subdir/CNV/Proton_A_884_20190315/Proton_A_884_20190315_IonXpress_074.base.cov.xls\n",
      "/Users/linbangqi/Desktop/python101_demo_data/data_with_subdir/VCF/Proton_A_870_20190131/Proton_A_870_20190131_IonXpress_028_TSVC_variants.vcf\n",
      "/Users/linbangqi/Desktop/python101_demo_data/data_with_subdir/VCF/Proton_A_870_20190131/Proton_A_870_20190131_IonXpress_034_TSVC_variants.vcf\n",
      "/Users/linbangqi/Desktop/python101_demo_data/data_with_subdir/VCF/Proton_A_870_20190131/Proton_A_870_20190131_IonXpress_029_TSVC_variants.vcf\n",
      "/Users/linbangqi/Desktop/python101_demo_data/data_with_subdir/VCF/Proton_A_870_20190131/Proton_A_870_20190131_IonXpress_035_TSVC_variants.vcf\n",
      "/Users/linbangqi/Desktop/python101_demo_data/data_with_subdir/VCF/Proton_A_870_20190131/Proton_A_870_20190131_IonXpress_007_TSVC_variants.vcf\n",
      "/Users/linbangqi/Desktop/python101_demo_data/data_with_subdir/VCF/Proton_A_870_20190131/Proton_A_870_20190131_IonXpress_033_TSVC_variants.vcf\n",
      "/Users/linbangqi/Desktop/python101_demo_data/data_with_subdir/VCF/Proton_A_870_20190131/Proton_A_870_20190131_IonXpress_036_TSVC_variants.vcf\n",
      "/Users/linbangqi/Desktop/python101_demo_data/data_with_subdir/VCF/Proton_A_870_20190131/Proton_A_870_20190131_IonXpress_032_TSVC_variants.vcf\n",
      "/Users/linbangqi/Desktop/python101_demo_data/data_with_subdir/VCF/Proton_A_870_20190131/Proton_A_870_20190131_IonXpress_037_TSVC_variants.vcf\n",
      "/Users/linbangqi/Desktop/python101_demo_data/data_with_subdir/VCF/Proton_A_870_20190131/Proton_A_870_20190131_IonXpress_040_TSVC_variants.vcf\n",
      "/Users/linbangqi/Desktop/python101_demo_data/data_with_subdir/VCF/Proton_A_870_20190131/Proton_A_870_20190131_IonXpress_038_TSVC_variants.vcf\n",
      "/Users/linbangqi/Desktop/python101_demo_data/data_with_subdir/VCF/Proton_A_879_20190307/Proton_A_879_20190307_IonXpress_009_TSVC_variants.vcf\n",
      "/Users/linbangqi/Desktop/python101_demo_data/data_with_subdir/VCF/Proton_A_879_20190307/Proton_A_879_20190307_IonXpress_010_TSVC_variants.vcf\n",
      "/Users/linbangqi/Desktop/python101_demo_data/data_with_subdir/VCF/Proton_A_879_20190307/Proton_A_879_20190307_IonXpress_008_TSVC_variants.vcf\n",
      "/Users/linbangqi/Desktop/python101_demo_data/data_with_subdir/VCF/Proton_A_879_20190307/Proton_A_879_20190307_IonXpress_096_TSVC_variants.vcf\n",
      "/Users/linbangqi/Desktop/python101_demo_data/data_with_subdir/VCF/Proton_A_879_20190307/Proton_A_879_20190307_IonXpress_093_TSVC_variants.vcf\n",
      "/Users/linbangqi/Desktop/python101_demo_data/data_with_subdir/VCF/Proton_A_879_20190307/Proton_A_879_20190307_IonXpress_004_TSVC_variants.vcf\n",
      "/Users/linbangqi/Desktop/python101_demo_data/data_with_subdir/VCF/Proton_A_879_20190307/Proton_A_879_20190307_IonXpress_005_TSVC_variants.vcf\n",
      "/Users/linbangqi/Desktop/python101_demo_data/data_with_subdir/VCF/Proton_A_879_20190307/Proton_A_879_20190307_IonXpress_003_TSVC_variants.vcf\n",
      "/Users/linbangqi/Desktop/python101_demo_data/data_with_subdir/VCF/Proton_A_879_20190307/Proton_A_879_20190307_IonXpress_081_TSVC_variants.vcf\n",
      "/Users/linbangqi/Desktop/python101_demo_data/data_with_subdir/VCF/Proton_A_894_20190403/Proton_A_894_20190403_IonXpress_082_TSVC_variants.vcf\n",
      "/Users/linbangqi/Desktop/python101_demo_data/data_with_subdir/VCF/Proton_A_894_20190403/Proton_A_894_20190403_IonXpress_087_TSVC_variants.vcf\n",
      "/Users/linbangqi/Desktop/python101_demo_data/data_with_subdir/VCF/Proton_A_894_20190403/Proton_A_894_20190403_IonXpress_083_TSVC_variants.vcf\n",
      "/Users/linbangqi/Desktop/python101_demo_data/data_with_subdir/VCF/Proton_A_894_20190403/Proton_A_894_20190403_IonXpress_086_TSVC_variants.vcf\n",
      "/Users/linbangqi/Desktop/python101_demo_data/data_with_subdir/VCF/Proton_A_894_20190403/Proton_A_894_20190403_IonXpress_064_TSVC_variants.vcf\n",
      "/Users/linbangqi/Desktop/python101_demo_data/data_with_subdir/VCF/Proton_A_894_20190403/Proton_A_894_20190403_IonXpress_085_TSVC_variants.vcf\n",
      "/Users/linbangqi/Desktop/python101_demo_data/data_with_subdir/VCF/Proton_A_894_20190403/Proton_A_894_20190403_IonXpress_081_TSVC_variants.vcf\n",
      "/Users/linbangqi/Desktop/python101_demo_data/data_with_subdir/VCF/Proton_A_894_20190403/Proton_A_894_20190403_IonXpress_084_TSVC_variants.vcf\n",
      "/Users/linbangqi/Desktop/python101_demo_data/data_with_subdir/VCF/Proton_A_894_20190403/Proton_A_894_20190403_IonXpress_041_TSVC_variants.vcf\n",
      "/Users/linbangqi/Desktop/python101_demo_data/data_with_subdir/VCF/Proton_A_894_20190403/Proton_A_894_20190403_IonXpress_088_TSVC_variants.vcf\n",
      "/Users/linbangqi/Desktop/python101_demo_data/data_with_subdir/VCF/Proton_A_894_20190403/Proton_A_894_20190403_IonXpress_042_TSVC_variants.vcf\n"
     ]
    }
   ],
   "source": [
    "SearchFile(\"IonXpress\")"
   ]
  },
  {
   "cell_type": "code",
   "execution_count": 96,
   "metadata": {},
   "outputs": [
    {
     "name": "stdout",
     "output_type": "stream",
     "text": [
      "/Users/linbangqi/Desktop/python101_demo_data/data_with_subdir/.DS_Store\n",
      "/Users/linbangqi/Desktop/python101_demo_data/data_with_subdir/CNV/.DS_Store\n",
      "/Users/linbangqi/Desktop/python101_demo_data/data_with_subdir/CNV/Proton_A_816_20181115/Proton_A_816_20181115_IonXpress_011.stats.cov.txt\n",
      "/Users/linbangqi/Desktop/python101_demo_data/data_with_subdir/CNV/Proton_A_816_20181115/Proton_A_816_20181115_IonXpress_014.amplicon.cov.xls\n",
      "/Users/linbangqi/Desktop/python101_demo_data/data_with_subdir/CNV/Proton_A_816_20181115/Proton_A_816_20181115_IonXpress_009.base.cov.xls\n",
      "/Users/linbangqi/Desktop/python101_demo_data/data_with_subdir/CNV/Proton_A_816_20181115/Proton_A_816_20181115_IonXpress_010.amplicon.cov.xls\n",
      "/Users/linbangqi/Desktop/python101_demo_data/data_with_subdir/CNV/Proton_A_816_20181115/Proton_A_816_20181115_IonXpress_012.stats.cov.txt\n",
      "/Users/linbangqi/Desktop/python101_demo_data/data_with_subdir/CNV/Proton_A_816_20181115/Proton_A_816_20181115_IonXpress_036.stats.cov.txt\n",
      "/Users/linbangqi/Desktop/python101_demo_data/data_with_subdir/CNV/Proton_A_816_20181115/Proton_A_816_20181115_IonXpress_011.base.cov.xls\n",
      "/Users/linbangqi/Desktop/python101_demo_data/data_with_subdir/CNV/Proton_A_816_20181115/Proton_A_816_20181115_IonXpress_011.amplicon.cov.xls\n",
      "/Users/linbangqi/Desktop/python101_demo_data/data_with_subdir/CNV/Proton_A_816_20181115/Proton_A_816_20181115_IonXpress_010.base.cov.xls\n",
      "/Users/linbangqi/Desktop/python101_demo_data/data_with_subdir/CNV/Proton_A_816_20181115/Proton_A_816_20181115_IonXpress_036.base.cov.xls\n",
      "/Users/linbangqi/Desktop/python101_demo_data/data_with_subdir/CNV/Proton_A_816_20181115/Proton_A_816_20181115_IonXpress_007.base.cov.xls\n",
      "/Users/linbangqi/Desktop/python101_demo_data/data_with_subdir/CNV/Proton_A_816_20181115/Proton_A_816_20181115_IonXpress_009.stats.cov.txt\n",
      "/Users/linbangqi/Desktop/python101_demo_data/data_with_subdir/CNV/Proton_A_816_20181115/Proton_A_816_20181115_IonXpress_009.amplicon.cov.xls\n",
      "/Users/linbangqi/Desktop/python101_demo_data/data_with_subdir/CNV/Proton_A_816_20181115/Proton_A_816_20181115_IonXpress_012.base.cov.xls\n",
      "/Users/linbangqi/Desktop/python101_demo_data/data_with_subdir/CNV/Proton_A_816_20181115/Proton_A_816_20181115_IonXpress_037.amplicon.cov.xls\n",
      "/Users/linbangqi/Desktop/python101_demo_data/data_with_subdir/CNV/Proton_A_816_20181115/Proton_A_816_20181115_IonXpress_037.base.cov.xls\n",
      "/Users/linbangqi/Desktop/python101_demo_data/data_with_subdir/CNV/Proton_A_816_20181115/Proton_A_816_20181115_IonXpress_037.stats.cov.txt\n",
      "/Users/linbangqi/Desktop/python101_demo_data/data_with_subdir/CNV/Proton_A_816_20181115/Proton_A_816_20181115_IonXpress_012.amplicon.cov.xls\n",
      "/Users/linbangqi/Desktop/python101_demo_data/data_with_subdir/CNV/Proton_A_816_20181115/Proton_A_816_20181115_IonXpress_013.base.cov.xls\n",
      "/Users/linbangqi/Desktop/python101_demo_data/data_with_subdir/CNV/Proton_A_816_20181115/Proton_A_816_20181115_IonXpress_014.base.cov.xls\n",
      "/Users/linbangqi/Desktop/python101_demo_data/data_with_subdir/CNV/Proton_A_816_20181115/Proton_A_816_20181115_IonXpress_036.amplicon.cov.xls\n",
      "/Users/linbangqi/Desktop/python101_demo_data/data_with_subdir/CNV/Proton_A_816_20181115/Proton_A_816_20181115_IonXpress_013.stats.cov.txt\n",
      "/Users/linbangqi/Desktop/python101_demo_data/data_with_subdir/CNV/Proton_A_816_20181115/Proton_A_816_20181115_IonXpress_013.amplicon.cov.xls\n",
      "/Users/linbangqi/Desktop/python101_demo_data/data_with_subdir/CNV/Proton_A_816_20181115/Proton_A_816_20181115_IonXpress_007.stats.cov.txt\n",
      "/Users/linbangqi/Desktop/python101_demo_data/data_with_subdir/CNV/Proton_A_816_20181115/Proton_A_816_20181115_IonXpress_010.stats.cov.txt\n",
      "/Users/linbangqi/Desktop/python101_demo_data/data_with_subdir/CNV/Proton_A_816_20181115/Proton_A_816_20181115_IonXpress_014.stats.cov.txt\n",
      "/Users/linbangqi/Desktop/python101_demo_data/data_with_subdir/CNV/Proton_A_816_20181115/Proton_A_816_20181115_IonXpress_007.amplicon.cov.xls\n",
      "/Users/linbangqi/Desktop/python101_demo_data/data_with_subdir/CNV/Proton_A_858_20181228/Proton_A_858_20181228_IonXpress_083.base.cov.xls\n",
      "/Users/linbangqi/Desktop/python101_demo_data/data_with_subdir/CNV/Proton_A_858_20181228/Proton_A_858_20181228_IonXpress_083.stats.cov.txt\n",
      "/Users/linbangqi/Desktop/python101_demo_data/data_with_subdir/CNV/Proton_A_858_20181228/Proton_A_858_20181228_IonXpress_082.amplicon.cov.xls\n",
      "/Users/linbangqi/Desktop/python101_demo_data/data_with_subdir/CNV/Proton_A_858_20181228/Proton_A_858_20181228_IonXpress_082.base.cov.xls\n",
      "/Users/linbangqi/Desktop/python101_demo_data/data_with_subdir/CNV/Proton_A_858_20181228/Proton_A_858_20181228_IonXpress_080.stats.cov.txt\n",
      "/Users/linbangqi/Desktop/python101_demo_data/data_with_subdir/CNV/Proton_A_858_20181228/Proton_A_858_20181228_IonXpress_083.amplicon.cov.xls\n",
      "/Users/linbangqi/Desktop/python101_demo_data/data_with_subdir/CNV/Proton_A_858_20181228/Proton_A_858_20181228_IonXpress_080.amplicon.cov.xls\n",
      "/Users/linbangqi/Desktop/python101_demo_data/data_with_subdir/CNV/Proton_A_858_20181228/Proton_A_858_20181228_IonXpress_081.amplicon.cov.xls\n",
      "/Users/linbangqi/Desktop/python101_demo_data/data_with_subdir/CNV/Proton_A_858_20181228/Proton_A_858_20181228_IonXpress_080.base.cov.xls\n",
      "/Users/linbangqi/Desktop/python101_demo_data/data_with_subdir/CNV/Proton_A_858_20181228/Proton_A_858_20181228_IonXpress_081.stats.cov.txt\n",
      "/Users/linbangqi/Desktop/python101_demo_data/data_with_subdir/CNV/Proton_A_858_20181228/Proton_A_858_20181228_IonXpress_081.base.cov.xls\n",
      "/Users/linbangqi/Desktop/python101_demo_data/data_with_subdir/CNV/Proton_A_858_20181228/Proton_A_858_20181228_IonXpress_082.stats.cov.txt\n",
      "/Users/linbangqi/Desktop/python101_demo_data/data_with_subdir/CNV/Proton_A_884_20190315/Proton_A_884_20190315_IonXpress_074.amplicon.cov.xls\n",
      "/Users/linbangqi/Desktop/python101_demo_data/data_with_subdir/CNV/Proton_A_884_20190315/Proton_A_884_20190315_IonXpress_076.stats.cov.txt\n",
      "/Users/linbangqi/Desktop/python101_demo_data/data_with_subdir/CNV/Proton_A_884_20190315/Proton_A_884_20190315_IonXpress_075.amplicon.cov.xls\n",
      "/Users/linbangqi/Desktop/python101_demo_data/data_with_subdir/CNV/Proton_A_884_20190315/Proton_A_884_20190315_IonXpress_076.base.cov.xls\n",
      "/Users/linbangqi/Desktop/python101_demo_data/data_with_subdir/CNV/Proton_A_884_20190315/Proton_A_884_20190315_IonXpress_075.stats.cov.txt\n",
      "/Users/linbangqi/Desktop/python101_demo_data/data_with_subdir/CNV/Proton_A_884_20190315/Proton_A_884_20190315_IonXpress_076.amplicon.cov.xls\n",
      "/Users/linbangqi/Desktop/python101_demo_data/data_with_subdir/CNV/Proton_A_884_20190315/Proton_A_884_20190315_IonXpress_074.stats.cov.txt\n",
      "/Users/linbangqi/Desktop/python101_demo_data/data_with_subdir/CNV/Proton_A_884_20190315/Proton_A_884_20190315_IonXpress_075.base.cov.xls\n",
      "/Users/linbangqi/Desktop/python101_demo_data/data_with_subdir/CNV/Proton_A_884_20190315/Proton_A_884_20190315_IonXpress_074.base.cov.xls\n",
      "/Users/linbangqi/Desktop/python101_demo_data/data_with_subdir/VCF/Proton_A_870_20190131/Proton_A_870_20190131_IonXpress_028_TSVC_variants.vcf\n",
      "/Users/linbangqi/Desktop/python101_demo_data/data_with_subdir/VCF/Proton_A_870_20190131/Proton_A_870_20190131_IonXpress_034_TSVC_variants.vcf\n",
      "/Users/linbangqi/Desktop/python101_demo_data/data_with_subdir/VCF/Proton_A_870_20190131/Proton_A_870_20190131_IonXpress_029_TSVC_variants.vcf\n",
      "/Users/linbangqi/Desktop/python101_demo_data/data_with_subdir/VCF/Proton_A_870_20190131/Proton_A_870_20190131_IonXpress_035_TSVC_variants.vcf\n",
      "/Users/linbangqi/Desktop/python101_demo_data/data_with_subdir/VCF/Proton_A_870_20190131/Proton_A_870_20190131_IonXpress_007_TSVC_variants.vcf\n",
      "/Users/linbangqi/Desktop/python101_demo_data/data_with_subdir/VCF/Proton_A_870_20190131/Proton_A_870_20190131_IonXpress_033_TSVC_variants.vcf\n",
      "/Users/linbangqi/Desktop/python101_demo_data/data_with_subdir/VCF/Proton_A_870_20190131/Proton_A_870_20190131_IonXpress_036_TSVC_variants.vcf\n",
      "/Users/linbangqi/Desktop/python101_demo_data/data_with_subdir/VCF/Proton_A_870_20190131/Proton_A_870_20190131_IonXpress_032_TSVC_variants.vcf\n",
      "/Users/linbangqi/Desktop/python101_demo_data/data_with_subdir/VCF/Proton_A_870_20190131/Proton_A_870_20190131_IonXpress_037_TSVC_variants.vcf\n",
      "/Users/linbangqi/Desktop/python101_demo_data/data_with_subdir/VCF/Proton_A_870_20190131/Proton_A_870_20190131_IonXpress_040_TSVC_variants.vcf\n",
      "/Users/linbangqi/Desktop/python101_demo_data/data_with_subdir/VCF/Proton_A_870_20190131/Proton_A_870_20190131_IonXpress_038_TSVC_variants.vcf\n",
      "/Users/linbangqi/Desktop/python101_demo_data/data_with_subdir/VCF/Proton_A_879_20190307/Proton_A_879_20190307_IonXpress_009_TSVC_variants.vcf\n",
      "/Users/linbangqi/Desktop/python101_demo_data/data_with_subdir/VCF/Proton_A_879_20190307/Proton_A_879_20190307_IonXpress_010_TSVC_variants.vcf\n",
      "/Users/linbangqi/Desktop/python101_demo_data/data_with_subdir/VCF/Proton_A_879_20190307/Proton_A_879_20190307_IonXpress_008_TSVC_variants.vcf\n",
      "/Users/linbangqi/Desktop/python101_demo_data/data_with_subdir/VCF/Proton_A_879_20190307/Proton_A_879_20190307_IonXpress_096_TSVC_variants.vcf\n",
      "/Users/linbangqi/Desktop/python101_demo_data/data_with_subdir/VCF/Proton_A_879_20190307/Proton_A_879_20190307_IonXpress_093_TSVC_variants.vcf\n",
      "/Users/linbangqi/Desktop/python101_demo_data/data_with_subdir/VCF/Proton_A_879_20190307/Proton_A_879_20190307_IonXpress_004_TSVC_variants.vcf\n",
      "/Users/linbangqi/Desktop/python101_demo_data/data_with_subdir/VCF/Proton_A_879_20190307/Proton_A_879_20190307_IonXpress_005_TSVC_variants.vcf\n",
      "/Users/linbangqi/Desktop/python101_demo_data/data_with_subdir/VCF/Proton_A_879_20190307/Proton_A_879_20190307_IonXpress_003_TSVC_variants.vcf\n",
      "/Users/linbangqi/Desktop/python101_demo_data/data_with_subdir/VCF/Proton_A_879_20190307/Proton_A_879_20190307_IonXpress_081_TSVC_variants.vcf\n",
      "/Users/linbangqi/Desktop/python101_demo_data/data_with_subdir/VCF/Proton_A_894_20190403/Proton_A_894_20190403_IonXpress_082_TSVC_variants.vcf\n",
      "/Users/linbangqi/Desktop/python101_demo_data/data_with_subdir/VCF/Proton_A_894_20190403/Proton_A_894_20190403_IonXpress_087_TSVC_variants.vcf\n",
      "/Users/linbangqi/Desktop/python101_demo_data/data_with_subdir/VCF/Proton_A_894_20190403/Proton_A_894_20190403_IonXpress_083_TSVC_variants.vcf\n",
      "/Users/linbangqi/Desktop/python101_demo_data/data_with_subdir/VCF/Proton_A_894_20190403/Proton_A_894_20190403_IonXpress_086_TSVC_variants.vcf\n",
      "/Users/linbangqi/Desktop/python101_demo_data/data_with_subdir/VCF/Proton_A_894_20190403/Proton_A_894_20190403_IonXpress_064_TSVC_variants.vcf\n",
      "/Users/linbangqi/Desktop/python101_demo_data/data_with_subdir/VCF/Proton_A_894_20190403/Proton_A_894_20190403_IonXpress_085_TSVC_variants.vcf\n",
      "/Users/linbangqi/Desktop/python101_demo_data/data_with_subdir/VCF/Proton_A_894_20190403/Proton_A_894_20190403_IonXpress_081_TSVC_variants.vcf\n",
      "/Users/linbangqi/Desktop/python101_demo_data/data_with_subdir/VCF/Proton_A_894_20190403/Proton_A_894_20190403_IonXpress_084_TSVC_variants.vcf\n",
      "/Users/linbangqi/Desktop/python101_demo_data/data_with_subdir/VCF/Proton_A_894_20190403/Proton_A_894_20190403_IonXpress_041_TSVC_variants.vcf\n",
      "/Users/linbangqi/Desktop/python101_demo_data/data_with_subdir/VCF/Proton_A_894_20190403/Proton_A_894_20190403_IonXpress_088_TSVC_variants.vcf\n",
      "/Users/linbangqi/Desktop/python101_demo_data/data_with_subdir/VCF/Proton_A_894_20190403/Proton_A_894_20190403_IonXpress_042_TSVC_variants.vcf\n"
     ]
    }
   ],
   "source": [
    "for root,subdirs,files in os.walk('/Users/linbangqi/Desktop/python101_demo_data/data_with_subdir'):\n",
    "    #print(root)\n",
    "    #print(subdirs)\n",
    "    #print(files)\n",
    "    for f in files:\n",
    "        path = f'{root}/{f}'\n",
    "        print(path)"
   ]
  },
  {
   "cell_type": "code",
   "execution_count": null,
   "metadata": {},
   "outputs": [],
   "source": [
    "# Pandas"
   ]
  },
  {
   "cell_type": "code",
   "execution_count": 94,
   "metadata": {},
   "outputs": [],
   "source": [
    "import pandas as pd"
   ]
  },
  {
   "cell_type": "code",
   "execution_count": 95,
   "metadata": {},
   "outputs": [
    {
     "data": {
      "text/html": [
       "<div>\n",
       "<style scoped>\n",
       "    .dataframe tbody tr th:only-of-type {\n",
       "        vertical-align: middle;\n",
       "    }\n",
       "\n",
       "    .dataframe tbody tr th {\n",
       "        vertical-align: top;\n",
       "    }\n",
       "\n",
       "    .dataframe thead th {\n",
       "        text-align: right;\n",
       "    }\n",
       "</style>\n",
       "<table border=\"1\" class=\"dataframe\">\n",
       "  <thead>\n",
       "    <tr style=\"text-align: right;\">\n",
       "      <th></th>\n",
       "      <th>0</th>\n",
       "    </tr>\n",
       "  </thead>\n",
       "  <tbody>\n",
       "    <tr>\n",
       "      <th>0</th>\n",
       "      <td>Proton_A_894_20190403_IonXpress_082_TSVC_varia...</td>\n",
       "    </tr>\n",
       "    <tr>\n",
       "      <th>1</th>\n",
       "      <td>Proton_A_894_20190403_IonXpress_087_TSVC_varia...</td>\n",
       "    </tr>\n",
       "    <tr>\n",
       "      <th>2</th>\n",
       "      <td>Proton_A_894_20190403_IonXpress_083_TSVC_varia...</td>\n",
       "    </tr>\n",
       "    <tr>\n",
       "      <th>3</th>\n",
       "      <td>Proton_A_894_20190403_IonXpress_086_TSVC_varia...</td>\n",
       "    </tr>\n",
       "    <tr>\n",
       "      <th>4</th>\n",
       "      <td>Proton_A_894_20190403_IonXpress_064_TSVC_varia...</td>\n",
       "    </tr>\n",
       "    <tr>\n",
       "      <th>5</th>\n",
       "      <td>Proton_A_894_20190403_IonXpress_085_TSVC_varia...</td>\n",
       "    </tr>\n",
       "    <tr>\n",
       "      <th>6</th>\n",
       "      <td>Proton_A_894_20190403_IonXpress_081_TSVC_varia...</td>\n",
       "    </tr>\n",
       "    <tr>\n",
       "      <th>7</th>\n",
       "      <td>Proton_A_894_20190403_IonXpress_084_TSVC_varia...</td>\n",
       "    </tr>\n",
       "    <tr>\n",
       "      <th>8</th>\n",
       "      <td>Proton_A_894_20190403_IonXpress_041_TSVC_varia...</td>\n",
       "    </tr>\n",
       "    <tr>\n",
       "      <th>9</th>\n",
       "      <td>Proton_A_894_20190403_IonXpress_088_TSVC_varia...</td>\n",
       "    </tr>\n",
       "    <tr>\n",
       "      <th>10</th>\n",
       "      <td>Proton_A_894_20190403_IonXpress_042_TSVC_varia...</td>\n",
       "    </tr>\n",
       "  </tbody>\n",
       "</table>\n",
       "</div>"
      ],
      "text/plain": [
       "                                                    0\n",
       "0   Proton_A_894_20190403_IonXpress_082_TSVC_varia...\n",
       "1   Proton_A_894_20190403_IonXpress_087_TSVC_varia...\n",
       "2   Proton_A_894_20190403_IonXpress_083_TSVC_varia...\n",
       "3   Proton_A_894_20190403_IonXpress_086_TSVC_varia...\n",
       "4   Proton_A_894_20190403_IonXpress_064_TSVC_varia...\n",
       "5   Proton_A_894_20190403_IonXpress_085_TSVC_varia...\n",
       "6   Proton_A_894_20190403_IonXpress_081_TSVC_varia...\n",
       "7   Proton_A_894_20190403_IonXpress_084_TSVC_varia...\n",
       "8   Proton_A_894_20190403_IonXpress_041_TSVC_varia...\n",
       "9   Proton_A_894_20190403_IonXpress_088_TSVC_varia...\n",
       "10  Proton_A_894_20190403_IonXpress_042_TSVC_varia..."
      ]
     },
     "execution_count": 95,
     "metadata": {},
     "output_type": "execute_result"
    }
   ],
   "source": [
    "pd.DataFrame(files)"
   ]
  },
  {
   "cell_type": "code",
   "execution_count": null,
   "metadata": {},
   "outputs": [],
   "source": []
  }
 ],
 "metadata": {
  "kernelspec": {
   "display_name": "Python 3",
   "language": "python",
   "name": "python3"
  },
  "language_info": {
   "codemirror_mode": {
    "name": "ipython",
    "version": 3
   },
   "file_extension": ".py",
   "mimetype": "text/x-python",
   "name": "python",
   "nbconvert_exporter": "python",
   "pygments_lexer": "ipython3",
   "version": "3.7.2"
  }
 },
 "nbformat": 4,
 "nbformat_minor": 2
}
